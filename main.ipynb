{
 "cells": [
  {
   "cell_type": "markdown",
   "metadata": {},
   "source": [
    "# Corretoras e Imobiliarias\n",
    "\n",
    "Vamos pegar as tabelas de todos os corretores e imobiliarias do rio de janeiro"
   ]
  },
  {
   "cell_type": "markdown",
   "metadata": {},
   "source": [
    "## Recuperando tabela de consultores/imobiliaris"
   ]
  },
  {
   "cell_type": "markdown",
   "metadata": {},
   "source": [
    "### Importando Dependências"
   ]
  },
  {
   "cell_type": "code",
   "execution_count": 34,
   "metadata": {},
   "outputs": [],
   "source": [
    "import time\n",
    "import pandas as pd\n",
    "import pyautogui\n",
    "pyautogui.PAUSE = 1\n",
    "import pyperclip\n",
    "from selenium import webdriver\n",
    "from selenium.webdriver.common.by import By\n",
    "from selenium.webdriver.common.action_chains import ActionChains\n",
    "from selenium.webdriver.common.keys import Keys\n",
    "from io import StringIO"
   ]
  },
  {
   "cell_type": "markdown",
   "metadata": {},
   "source": [
    "### Lista de Bairros"
   ]
  },
  {
   "cell_type": "code",
   "execution_count": 56,
   "metadata": {},
   "outputs": [],
   "source": [
    "lista_bairros_zona_norte = [\n",
    "    \"Acari\", \"Anchieta\", \"Barros Filho\", \"Bento Ribeiro\", \"Brás de Pina\", \"Campinho\", \"Cavalcanti\", \"Cascadura\", \"Coelho Neto\", \"Colégio\",\n",
    "    \"Complexo do Alemão\", \"Cordovil\", \"Costa Barros\", \"Engenheiro Leal\", \"Engenho da Rainha\", \"Guadalupe\", \"Honório Gurgel\", \"Inhaúma\", \"Irajá\",\n",
    "    \"Jardim América\", \"Madureira\", \"Marechal Hermes\", \"Oswaldo Cruz\", \"Parada de Lucas\", \"Parque Anchieta\", \"Parque Colúmbia\", \"Pavuna\", \"Penha\",\n",
    "    \"Penha Circular\", \"Quintinho Bocaiuva\", \"Ricardo de Albuquerque\", \"Rocha Miranda\", \"Tómas Coelho\", \"Turiaçu\", \"Vaz Lobo\", \"Vicente de Carvalho\",\n",
    "    \"Vigário Geral\", \"Vila da Penha\", \"Vila Kosmos\", \"Vista Alegre\" \n",
    "]\n",
    "lista_bairros_ilha_gov_leopoldina = [\n",
    "    \"Bonsucesso\", \"Bancários\", \"Cacuia\", \"Cidade Universitária\", \"Cocotá\", \"Freguesia\", \"Galeão\", \"Jardim Carioca\", \"Jardim Guanabara\", \"Maré\",\n",
    "    \"Moneró\", \"Olaria\", \"Pitangueiras\", \"Portuguesa\", \"Praia da Bandeira\", \"Ramos\", \"Ribeira\", \"Tauá\", \"Zumbi\" \n",
    "]\n",
    "lista_bairros_tijuca = [\n",
    "    \"Alto da Boa Vista\", \"Andaraí\", \"Grajaú\", \"Maracanã\", \"Praça da Bandeira\", \"Tijuca\", \"Vila Isabel\", \"Barra da Tijuca\"\n",
    "]\n",
    "lista_bairros_meier = [\n",
    "    \"Abolição\", \"Agua Santa\", \"Cachambi\", \"Del Castilho\", \"Encantado\", \"Engenho de Dentro\", \"Engenho Novo\", \"Higienópolis\", \"Jacaré\", \"Jacarezinho\",\n",
    "    \"Lins de Vasconcelos\", \"Manguinhos\", \"Maria da Graça\", \"Méier\", \"Piedade\", \"Pilares\", \"Riachuelo\", \"Rocha\", \"Sampaio\", \"São Francisco Xavier\",\n",
    "    \"Todos os Santos\",  \n",
    "]\n",
    "\n",
    "lista_bairros = lista_bairros_zona_norte + lista_bairros_ilha_gov_leopoldina + lista_bairros_tijuca + lista_bairros_meier\n",
    "dict_bairros = {}"
   ]
  },
  {
   "cell_type": "markdown",
   "metadata": {},
   "source": [
    "### Baixar tabela por bairro"
   ]
  },
  {
   "cell_type": "code",
   "execution_count": 36,
   "metadata": {},
   "outputs": [],
   "source": [
    "def baixar_tabela_por_bairro(bairro):\n",
    "    url = 'https://www.crecirj.conselho.net.br/form_pesquisa_cadastro_geral_site.php'\n",
    "    driver = webdriver.Edge()\n",
    "\n",
    "    # Maximize a janela do navegador\n",
    "    driver.maximize_window()\n",
    "    \n",
    "    #Abrir pagina\n",
    "    driver.get(url)\n",
    "    \n",
    "    # Localiza os campos do formulário e preenche-os\n",
    "    campo_bairro = driver.find_element(\"id\", \"input-27\")\n",
    "    campo_bairro.send_keys(bairro)\n",
    "\n",
    "    # Envie o formulário\n",
    "    campo_bairro.send_keys(Keys.RETURN)\n",
    "\n",
    "    # Aguarde um tempo para a página carregar completamente\n",
    "    time.sleep(4)\n",
    "\n",
    "    # Pular para o final da pagina\n",
    "    for _ in range(25):  \n",
    "        pyautogui.press('down')  # Simula pressionar a tecla de seta para baixo\n",
    "        time.sleep(0.2) \n",
    "\n",
    "    # Mova o cursor do mouse para o ponto médio do elemento usando PyAutoGUI\n",
    "    pyautogui.moveTo(171, 979)\n",
    "\n",
    "    # Simule um clique do mouse usando PyAutoGUI\n",
    "    pyautogui.click()\n",
    "\n",
    "    time.sleep(1)\n",
    "\n",
    "    pyautogui.click()\n",
    "\n",
    "    time.sleep(6)\n",
    "\n",
    "    try:\n",
    "        # Encontra a tabela na página\n",
    "        table = driver.find_elements('css selector', 'table')\n",
    "        table_html = table[0].get_attribute('outerHTML')\n",
    "    except IndexError:\n",
    "        print(f\"Não existe nenhuma corretora/imobiliaria em {bairro}!\")\n",
    "        print(f\"Verifique se o nome do bairro esta certo! {bairro}\\n\")\n",
    "        driver.quit()\n",
    "        return pd.DataFrame()\n",
    "    else:\n",
    "        df = pd.read_html(StringIO(table_html))[0]  # Este método retorna uma lista de DataFrames, portanto, pegamos o primeiro\n",
    "        driver.quit()\n",
    "        print(bairro, len(df),end='; ')\n",
    "        return df"
   ]
  },
  {
   "cell_type": "markdown",
   "metadata": {},
   "source": [
    "### Baixando as tabelas de todos os bairros"
   ]
  },
  {
   "cell_type": "code",
   "execution_count": 57,
   "metadata": {},
   "outputs": [
    {
     "name": "stdout",
     "output_type": "stream",
     "text": [
      "Jardim Guanabara 397; Maré 282; Moneró 40; Olaria 361; Pitangueiras 30; Portuguesa 147; Praia da Bandeira 19; Ramos 222; Ribeira 81; Tauá 114; Zumbi 13; Alto da Boa Vista 78; Andaraí 288; Grajaú 523; Maracanã 327; Praça da Bandeira 122; Tijuca 7666; Vila Isabel 844; Barra da Tijuca 4762; Abolição 89; Agua Santa 28; Cachambi 439; Del Castilho 171; Encantado 122; Engenho de Dentro 397; Engenho Novo 331; Higienópolis 133; Jacaré 3602; Jacarezinho 5; Lins de Vasconcelos 197; Manguinhos 121; Maria da Graça 63; Méier 1020; Piedade 262; Pilares 207; Riachuelo 135; Rocha 435; Sampaio 73; São Francisco Xavier 28; Todos os Santos 241; "
     ]
    }
   ],
   "source": [
    "def baixar_tabela_todos_bairros():\n",
    "    for bairro in lista_bairros:\n",
    "        tabela_bairro = baixar_tabela_por_bairro(bairro)\n",
    "        dict_bairros.update({bairro:tabela_bairro})\n",
    "\n",
    "baixar_tabela_todos_bairros()"
   ]
  },
  {
   "cell_type": "markdown",
   "metadata": {},
   "source": [
    "### Baixando apenas um item"
   ]
  },
  {
   "cell_type": "code",
   "execution_count": null,
   "metadata": {},
   "outputs": [],
   "source": [
    "#tabela_bairro_tijuca = baixar_tabela_por_bairro(\"Tijuca\")\n",
    "\n",
    "#dict_bairros.update({\"Tijuca\":tabela_bairro_tijuca})"
   ]
  },
  {
   "cell_type": "markdown",
   "metadata": {},
   "source": [
    "### Criando uma cópia para preservar o dicionário original"
   ]
  },
  {
   "cell_type": "code",
   "execution_count": 58,
   "metadata": {},
   "outputs": [
    {
     "name": "stdout",
     "output_type": "stream",
     "text": [
      "40\n"
     ]
    }
   ],
   "source": [
    "dict_bairros_edit = dict_bairros.copy()\n",
    "print(len(dict_bairros_edit))"
   ]
  },
  {
   "cell_type": "markdown",
   "metadata": {},
   "source": [
    "### Removendo a natureza juridica do campo nome e adicionando campo bairro"
   ]
  },
  {
   "cell_type": "code",
   "execution_count": 59,
   "metadata": {},
   "outputs": [
    {
     "name": "stdout",
     "output_type": "stream",
     "text": [
      "Bairro: Jardim Guanabara\n",
      "Bairro: Maré\n",
      "Bairro: Moneró\n",
      "Bairro: Olaria\n",
      "Bairro: Pitangueiras\n",
      "Bairro: Portuguesa\n",
      "Bairro: Praia da Bandeira\n",
      "Bairro: Ramos\n",
      "Bairro: Ribeira\n",
      "Bairro: Tauá\n",
      "Bairro: Zumbi\n",
      "Bairro: Alto da Boa Vista\n",
      "Bairro: Andaraí\n",
      "Bairro: Grajaú\n",
      "Bairro: Maracanã\n",
      "Bairro: Praça da Bandeira\n",
      "Bairro: Tijuca\n",
      "Bairro: Vila Isabel\n",
      "Bairro: Barra da Tijuca\n",
      "Bairro: Abolição\n",
      "Bairro: Agua Santa\n",
      "Bairro: Cachambi\n",
      "Bairro: Del Castilho\n",
      "Bairro: Encantado\n",
      "Bairro: Engenho de Dentro\n",
      "Bairro: Engenho Novo\n",
      "Bairro: Higienópolis\n",
      "Bairro: Jacaré\n",
      "Bairro: Jacarezinho\n",
      "Bairro: Lins de Vasconcelos\n",
      "Bairro: Manguinhos\n",
      "Bairro: Maria da Graça\n",
      "Bairro: Méier\n",
      "Bairro: Piedade\n",
      "Bairro: Pilares\n",
      "Bairro: Riachuelo\n",
      "Bairro: Rocha\n",
      "Bairro: Sampaio\n",
      "Bairro: São Francisco Xavier\n",
      "Bairro: Todos os Santos\n"
     ]
    }
   ],
   "source": [
    "def editar_campos_empresa():\n",
    "    for bairro, tb in dict_bairros_edit.items():\n",
    "        try:\n",
    "            tb.drop(columns=['Unnamed: 5'], inplace=True)\n",
    "        except KeyError:\n",
    "            pass\n",
    "        \n",
    "        for index, linha in tb.iterrows():\n",
    "            nome = linha[\"Identificação\"]\n",
    "            tb.at[index, \"Bairro\"] = bairro\n",
    "            \n",
    "            if \" PJ \" in nome:\n",
    "                novo_nome = nome.replace(\" PJ P\", \"\").replace(\" PJ \", \"\")\n",
    "                tb.at[index, \"Identificação\"] = novo_nome\n",
    "                tb.at[index, \"Natureza\"] = \"PJ P\"\n",
    "            elif \" PF \" in nome:\n",
    "                novo_nome = nome.replace(\" PF P\", \"\").replace(\" PF \", \"\")\n",
    "                tb.at[index, \"Identificação\"] = novo_nome\n",
    "                tb.at[index,\"Natureza\"] = \"PF P\"\n",
    "        print(\"Bairro:\", bairro)\n",
    "\n",
    "editar_campos_empresa()"
   ]
  },
  {
   "cell_type": "markdown",
   "metadata": {},
   "source": [
    "### Exibindo quantos corretores/imobiliarias tem em cada bairro"
   ]
  },
  {
   "cell_type": "code",
   "execution_count": 60,
   "metadata": {},
   "outputs": [],
   "source": [
    "def preencher_nan_com_vazio(df):\n",
    "    # Iterar sobre todas as células do DataFrame\n",
    "    for coluna in df.columns:\n",
    "        for indice, valor in df[coluna].items():\n",
    "            if pd.isna(valor):  # Verificar se o valor é NaN\n",
    "                df.at[indice, coluna] = \"\"  # Substituir NaN por uma string vazia\n",
    "    return df\n",
    "new_dict = {}\n",
    "for bairro, tb in dict_bairros_edit.items():\n",
    "    novo_df = preencher_nan_com_vazio(tb)\n",
    "    new_dict.update({bairro: novo_df})\n",
    "\n",
    "dict_bairros_edit = new_dict.copy()"
   ]
  },
  {
   "cell_type": "markdown",
   "metadata": {},
   "source": [
    "### Exibindo quantas corretoras/imobiliarias estão ativas e inativas"
   ]
  },
  {
   "cell_type": "code",
   "execution_count": null,
   "metadata": {},
   "outputs": [],
   "source": [
    "ativos_qnt = 0\n",
    "inativos_qnt = 0\n",
    "\n",
    "def verifica_aitvos_inativos(dataframe):\n",
    "    ativos = 0\n",
    "    inativos = 0\n",
    "    for index, linha in dataframe.iterrows():\n",
    "        if \"PJ\" in  linha[\"Natureza\"]:\n",
    "            if linha[\"Situação\"] == \"ATIVO\":\n",
    "                ativos += 1 \n",
    "            else: \n",
    "                inativos += 1\n",
    "    return (ativos, inativos)\n",
    "\n",
    "def contar_ativos_inativos_todos_bairros():\n",
    "    for bairro, tb in dict_bairros_edit.items():\n",
    "        novo_ativos_qnt, novo_inativos_qnt = verifica_aitvos_inativos(tb)\n",
    "        ativos_qnt += novo_ativos_qnt\n",
    "        inativos_qnt += novo_inativos_qnt\n",
    "\n",
    "    print(\"Ativos\", ativos_qnt)\n",
    "    print(\"Inativos\", inativos_qnt)\n",
    "    print(\"Total\", ativos_qnt + inativos_qnt)\n",
    "\n",
    "#contar_ativos_inativos_todos_bairros()"
   ]
  },
  {
   "cell_type": "markdown",
   "metadata": {},
   "source": [
    "### Filtrando Corretoras/Imobiliarias  (Situação = \"ATIVO\" e Certidão de Regularidade = \"REGULAR\")"
   ]
  },
  {
   "cell_type": "code",
   "execution_count": null,
   "metadata": {},
   "outputs": [],
   "source": [
    "def bairros_ativos_disponiveis(bairros):\n",
    "    novo_dict = {}\n",
    "    for bairro_nome, bairro_tabela in bairros.items():\n",
    "        print(bairro_nome)\n",
    "        if not bairro_tabela.empty:\n",
    "            nova_tabela = bairro_tabela.loc[bairro_tabela[\"Situação\"] == \"ATIVO\"]\n",
    "            nova_tabela = nova_tabela.loc[bairro_tabela[\"Certidão de Regularidade\"] == \"REGULAR\"]\n",
    "            novo_dict.update({bairro_nome:nova_tabela})\n",
    "        else:\n",
    "            print(\"Vazio\",bairro_nome)\n",
    "    return novo_dict.copy()\n",
    "\n",
    "#print(len(dict_bairros_edit))\n",
    "#dict_bairros_edit = bairros_ativos_disponiveis(dict_bairros_edit)\n",
    "#print(len(dict_imobiliaria_ativa_disponivel[\"Tijuca\"]))"
   ]
  },
  {
   "cell_type": "markdown",
   "metadata": {},
   "source": [
    "## Descobrir CNPJ"
   ]
  },
  {
   "cell_type": "markdown",
   "metadata": {},
   "source": [
    "### Verificar se o Edge esta maximizado"
   ]
  },
  {
   "cell_type": "code",
   "execution_count": null,
   "metadata": {},
   "outputs": [],
   "source": [
    "import pygetwindow\n",
    "\n",
    "def verificar_edge_maximizado():\n",
    "    # Obter todas as janelas abertas atualmente\n",
    "    janelas = pygetwindow.getAllWindows()\n",
    "\n",
    "    # Procurar a janela do Microsoft Edge entre as janelas abertas\n",
    "    for janela in janelas:\n",
    "        if \"Microsoft​ Edge\" in janela.title:\n",
    "            # Verificar se a janela está maximizada\n",
    "            return janela.isMaximized\n",
    "    else:\n",
    "        print(\"A janela do Microsoft Edge não está aberta.\")\n",
    "        return False\n",
    "\n",
    "# Exemplo de uso\n",
    "# verificar_edge_maximizado()\n"
   ]
  },
  {
   "cell_type": "markdown",
   "metadata": {},
   "source": [
    "### Iniciando Edge"
   ]
  },
  {
   "cell_type": "code",
   "execution_count": null,
   "metadata": {},
   "outputs": [],
   "source": [
    "def iniciando_edge_pyautogui(url):\n",
    "    pyautogui.press(\"win\")\n",
    "    pyautogui.write(\"edge\")\n",
    "    pyautogui.press(\"enter\")\n",
    "    \n",
    "    time.sleep(1)\n",
    "    # Ativar o modo de tela cheia pressionando windows + up\n",
    "    esta_maximizado = verificar_edge_maximizado()\n",
    "    if not esta_maximizado:\n",
    "        pyautogui.hotkey('win', 'up')\n",
    "\n",
    "    pyautogui.write(url)  \n",
    "    pyautogui.press(\"enter\")\n",
    "    time.sleep(2)\n",
    "\n",
    "def iniciando_edge_selenium(url):\n",
    "    driver = webdriver.Edge()\n",
    "\n",
    "    # Maximize a janela do navegador\n",
    "    driver.maximize_window()\n",
    "    \n",
    "    #Abrir pagina\n",
    "    driver.get(url)\n",
    "    time.sleep(2)\n",
    "    return driver\n"
   ]
  },
  {
   "cell_type": "markdown",
   "metadata": {},
   "source": [
    "### Sites que realizaremos as buscas"
   ]
  },
  {
   "cell_type": "code",
   "execution_count": null,
   "metadata": {},
   "outputs": [],
   "source": [
    "URL_LINKANA = \"https://cnpj.linkana.com/\"\n",
    "URL_CNPJBIZ = \"https://cnpj.biz/empresas\"\n",
    "URL_ECONODATA = \"https://www.econodata.com.br/consulta-empresa\""
   ]
  },
  {
   "cell_type": "markdown",
   "metadata": {},
   "source": [
    "### Recuperando String de Print da Tela"
   ]
  },
  {
   "cell_type": "code",
   "execution_count": null,
   "metadata": {},
   "outputs": [],
   "source": [
    "import easyocr\n",
    "from PIL import Image\n",
    "\n",
    "def recuperando_string_print(x1, y1, width, height):\n",
    "    '''\n",
    "    Captura um print da tela e transforma em string\n",
    "    '''\n",
    "    # Inicializa o EasyOCR para o idioma português\n",
    "    reader = easyocr.Reader(['pt'])\n",
    "\n",
    "    # Captura uma região da tela onde o texto está localizado (ajuste as coordenadas conforme necessário)\n",
    "    screenshot = pyautogui.screenshot(region=(x1, y1, width, height))\n",
    "\n",
    "    # Salva a captura de tela em um arquivo temporário\n",
    "    screenshot_path = \"screenshot_temp.png\"\n",
    "    screenshot.save(screenshot_path)\n",
    "\n",
    "    # Usa EasyOCR para realizar OCR na imagem\n",
    "    resultados = reader.readtext(screenshot_path)\n",
    "    \n",
    "    # Extrai o texto dos resultados\n",
    "    texto_copiado = \"\"\n",
    "    for resultado in resultados:\n",
    "        texto_copiado += resultado[1] + \" \"\n",
    "    return texto_copiado.strip()\n"
   ]
  },
  {
   "cell_type": "markdown",
   "metadata": {},
   "source": [
    "### Verificar CNPJ no CRESCI - RJ"
   ]
  },
  {
   "cell_type": "code",
   "execution_count": null,
   "metadata": {},
   "outputs": [],
   "source": [
    "def verificar_cnpj_cresci(cnpj, inscricao_empresa):\n",
    "    # empresa = {informações da linha do dataframe}\n",
    "    # Entrar no Cresci\n",
    "    driver = iniciando_edge_selenium('https://www.crecirj.conselho.net.br/form_pesquisa_cadastro_geral_site.php')\n",
    "    # Digitar o CNPJ\n",
    "    campo_cnpj = driver.find_element(\"id\", \"input-21\")\n",
    "    campo_cnpj.send_keys(cnpj)\n",
    "\n",
    "    # Envie o formulário\n",
    "    campo_cnpj.send_keys(Keys.RETURN)\n",
    "    time.sleep(2)\n",
    "    # Verificar se é compativel\n",
    "    try:\n",
    "        # Encontra a tabela na página\n",
    "        table = driver.find_elements('css selector', 'table')\n",
    "        table_html = table[0].get_attribute('outerHTML')\n",
    "    except IndexError:\n",
    "        print(f\"Não existe nenhuma corretora/imobiliaria com o cnpj: {cnpj}!\")\n",
    "        driver.quit()\n",
    "        return False\n",
    "    else:\n",
    "        df = pd.read_html(StringIO(table_html))[0]  # Este método retorna uma lista de DataFrames, portanto, pegamos o primeiro\n",
    "        driver.quit()\n",
    "        # Recuperando dados da empresa\n",
    "        empreasa_info = df.iloc[0]\n",
    "        empresa_inscricao = empreasa_info[\"Inscrição\"]\n",
    "\n",
    "        if empresa_inscricao == inscricao_empresa:\n",
    "            return True\n",
    "        else:\n",
    "            print(f\"A inscriçãoda da empresa {inscricao_empresa} é diferente de {empresa_inscricao}\")\n",
    "            return False\n"
   ]
  },
  {
   "cell_type": "markdown",
   "metadata": {},
   "source": [
    "### Buscar no CNPJ.BIZ"
   ]
  },
  {
   "cell_type": "markdown",
   "metadata": {},
   "source": [
    "#### Pesquisar empresa pelo nome"
   ]
  },
  {
   "cell_type": "code",
   "execution_count": null,
   "metadata": {},
   "outputs": [],
   "source": [
    "def pesquisar_empresa_nome_cnpjbiz(nome_empresa):\n",
    "    '''\n",
    "    Pesquisa uma empresa pelo nome\n",
    "    '''\n",
    "    pyperclip.copy(nome_empresa)\n",
    "    time.sleep(1)\n",
    "    pyautogui.click(1062, 409)\n",
    "    pyautogui.hotkey(\"ctrl\", \"v\")\n",
    "    time.sleep(1)\n",
    "    pyautogui.press(\"enter\")\n",
    "    time.sleep(1)\n",
    "    "
   ]
  },
  {
   "cell_type": "markdown",
   "metadata": {},
   "source": [
    "#### Verificar se existe empresa"
   ]
  },
  {
   "cell_type": "code",
   "execution_count": null,
   "metadata": {},
   "outputs": [],
   "source": [
    "def verificar_existe_empresa_cnpjbiz():\n",
    "    '''\n",
    "    Verifica se ao pesquisar a empresa, sera exibido uma mensagem de erro\n",
    "    Caso não seja encontrado nada sera retornado verdadeiro, caso o contrario falso\n",
    "    '''\n",
    "    deu_ruim = recuperando_string_print(639, 235, 500, 300)\n",
    "    time.sleep(2)\n",
    "    if \"Opa! Alguma coisa saiu errado\" in deu_ruim:\n",
    "        print(\"Deu ruim\")\n",
    "        print(deu_ruim)\n",
    "        return False\n",
    "    else:\n",
    "        return True"
   ]
  },
  {
   "cell_type": "markdown",
   "metadata": {},
   "source": [
    "#### Capturar CNPJ da empresa"
   ]
  },
  {
   "cell_type": "code",
   "execution_count": null,
   "metadata": {},
   "outputs": [],
   "source": [
    "def capturar_cnpj_empresa_cnpjbiz():\n",
    "    '''\n",
    "    Captura um print da tela onde o cnpj deve estar. \n",
    "    E transforma essa imagem em texto\n",
    "    '''\n",
    "    pyautogui.PAUSE = .5\n",
    "    for _ in range(5):\n",
    "        pyautogui.press(\"down\")\n",
    "    pyautogui.PAUSE = 1\n",
    "\n",
    "    pyautogui.moveTo(445,430)\n",
    "    texto = recuperando_string_print(445, 430, 300, 200).split(\" \")[0]\n",
    "    return texto"
   ]
  },
  {
   "cell_type": "markdown",
   "metadata": {},
   "source": [
    "#### Acessa a Pagina da empresa e inicia um driver no selenium com essa url"
   ]
  },
  {
   "cell_type": "code",
   "execution_count": null,
   "metadata": {},
   "outputs": [],
   "source": [
    "def acessando_empresas_info_to_selenium_cnpjbiz():\n",
    "    '''\n",
    "    Acessar o site com as informações da empresa e criar um driver no selenium com essa mesma url\n",
    "    '''\n",
    "    pyautogui.click(445,430)\n",
    "    time.sleep(1)\n",
    "    pyautogui.click(581,62)\n",
    "    time.sleep(1)\n",
    "    pyautogui.hotkey(\"ctrl\", \"c\")\n",
    "\n",
    "    time.sleep(1)\n",
    "    link = pyperclip.paste()\n",
    "   \n",
    "    pyautogui.click(1888, 18)\n",
    "    return iniciando_edge_selenium(link)\n",
    "    "
   ]
  },
  {
   "cell_type": "markdown",
   "metadata": {},
   "source": [
    "#### Recuperando Contatos"
   ]
  },
  {
   "cell_type": "code",
   "execution_count": null,
   "metadata": {},
   "outputs": [],
   "source": [
    "def recuperando_contatos_cnpj_biz(driver:webdriver.Edge):\n",
    "    # Digitar o CNPJ\n",
    "    h2_contatos = driver.find_element(By.ID, \"contato\")\n",
    "    p_contatos = h2_contatos.find_element(By.XPATH, \"following-sibling::p\")\n",
    "    contatos = p_contatos.find_elements(By.TAG_NAME, \"b\")\n",
    "    return \", \".join([contato.text for contato in contatos])"
   ]
  },
  {
   "cell_type": "markdown",
   "metadata": {},
   "source": [
    "#### Recuperando Socios"
   ]
  },
  {
   "cell_type": "code",
   "execution_count": null,
   "metadata": {},
   "outputs": [],
   "source": [
    "def recuperando_socios_cnpj_biz(driver:webdriver.Edge):\n",
    "    elementos_h2 = driver.find_elements(By.TAG_NAME, \"h2\")\n",
    "    if len(elementos_h2) >= 5:\n",
    "        h2 = elementos_h2[4]\n",
    "        p = h2.find_element(By.XPATH, \"following-sibling::p\")\n",
    "        socios = p.text.split(\"\\n\")\n",
    "    return \", \".join(socios)"
   ]
  },
  {
   "cell_type": "markdown",
   "metadata": {},
   "source": [
    "#### Recuperando Endereco"
   ]
  },
  {
   "cell_type": "code",
   "execution_count": null,
   "metadata": {},
   "outputs": [],
   "source": [
    "def recuperando_endereco_cnpj_biz(driver:webdriver.Edge):\n",
    "    elementos_h2 = driver.find_elements(By.TAG_NAME, \"h2\")\n",
    "    if len(elementos_h2) >= 3:\n",
    "        h2 = elementos_h2[2]\n",
    "        p = h2.find_elements(By.XPATH, \"following-sibling::p[7]\")[0]\n",
    "        #b = p.find_element(By.TAG_NAME, \"b\")\n",
    "        endereco = p.text.split(\"\\n\")\n",
    "        endereco.pop(0)\n",
    "    return \", \".join(endereco)"
   ]
  },
  {
   "cell_type": "markdown",
   "metadata": {},
   "source": [
    "#### Listar elementos html !!!!!!!!!!!!!!!!!!"
   ]
  },
  {
   "cell_type": "code",
   "execution_count": null,
   "metadata": {},
   "outputs": [],
   "source": [
    "def listar_elementos_pagina(driver:webdriver.Edge, elemento):\n",
    "    elementos = driver.find_elements(By.XPATH, f\"following-sibling::{elemento}\")\n",
    "    for idx, element in enumerate(elementos):\n",
    "        print(idx, element.text)\n",
    "    else:\n",
    "        print(f\"Não possui nenhum elemento <{elemento}/>\")\n",
    "    return elementos"
   ]
  },
  {
   "cell_type": "markdown",
   "metadata": {},
   "source": [
    "#### Buscar dados no CNPJ.Biz"
   ]
  },
  {
   "cell_type": "code",
   "execution_count": null,
   "metadata": {},
   "outputs": [],
   "source": [
    "def buscar_empresa_cnpjbiz(nome_empresa, inscricao_empresa):\n",
    "    pyautogui.PAUSE = 1\n",
    "    iniciando_edge_pyautogui(URL_CNPJBIZ)\n",
    "    pesquisar_empresa_nome_cnpjbiz(nome_empresa)\n",
    "    \n",
    "    existe_empresa = verificar_existe_empresa_cnpjbiz()\n",
    "    \n",
    "    if existe_empresa:\n",
    "    \n",
    "        cnpj = capturar_cnpj_empresa_cnpjbiz()\n",
    "        cnpj_valido = verificar_cnpj_cresci(cnpj, inscricao_empresa)\n",
    "    \n",
    "        if cnpj_valido:\n",
    "            print(\"CNPJ Valido Porra\")\n",
    "            driver = acessando_empresas_info_to_selenium_cnpjbiz()\n",
    "            contatos = recuperando_contatos_cnpj_biz(driver)\n",
    "            socios = recuperando_socios_cnpj_biz(driver)\n",
    "            endereco = recuperando_endereco_cnpj_biz(driver)\n",
    "            print(\"Contatos: \", contatos)\n",
    "            print(\"Socios: \", socios)\n",
    "            print(\"Endereco: \", endereco)\n",
    "            return {\"Contatos\":contatos, \"Socios\": socios, \"Endereço\": endereco}    \n",
    "        else:\n",
    "            print(\"FUdeu deu ruim\")\n",
    "        \n",
    "    return False\n",
    "#cnpj_empresa = buscar_empresa_cnpjbiz(\"2M INTERMEDIAÇÕES LTDA\", \"10663\")"
   ]
  },
  {
   "cell_type": "code",
   "execution_count": null,
   "metadata": {},
   "outputs": [],
   "source": [
    "def teste():\n",
    "    #driver = iniciando_edge_selenium(\"https://cnpj.biz/24701445000167\")\n",
    "    #h2 = listar_elementos_pagina(driver, \"h2\")[2]\n",
    "    #p = listar_elementos_pagina(h2, \"p\")\n",
    "\n",
    "    #'''\n",
    "    driver = iniciando_edge_selenium(\"https://cnpj.biz/24701445000167\")\n",
    "    contatos = recuperando_contatos_cnpj_biz(driver)\n",
    "    socios = recuperando_socios_cnpj_biz(driver)\n",
    "    endereco = recuperando_endereco_cnpj_biz(driver)\n",
    "    print(\"Contatos: \", contatos)\n",
    "    print(\"Socios: \", socios)\n",
    "    print(\"Endereco: \", endereco)\n",
    "    #'''\n",
    "\n",
    "#teste()"
   ]
  },
  {
   "cell_type": "markdown",
   "metadata": {},
   "source": [
    "### Buscar no Linkana"
   ]
  },
  {
   "cell_type": "markdown",
   "metadata": {},
   "source": [
    "#### Buscar no Linkana pelo nome da Empresa"
   ]
  },
  {
   "cell_type": "code",
   "execution_count": null,
   "metadata": {},
   "outputs": [],
   "source": [
    "def pesquisar_empresa_nome_linkana(nome_empresa, driver):\n",
    "    campo_nome = driver.find_element(By.ID, \"q\")\n",
    "    campo_nome.send_keys(nome_empresa)\n",
    "    campo_nome.send_keys(Keys.RETURN)"
   ]
  },
  {
   "cell_type": "markdown",
   "metadata": {},
   "source": [
    "#### Verificando se existe empresa"
   ]
  },
  {
   "cell_type": "code",
   "execution_count": null,
   "metadata": {},
   "outputs": [],
   "source": [
    "def verificar_existe_empresa_linkana():\n",
    "    texto = recuperando_string_print(313, 529, 500, 70)\n",
    "    print(texto)\n",
    "    return not \"Nenhum resultado encontrado\" in texto\n",
    "    "
   ]
  },
  {
   "cell_type": "markdown",
   "metadata": {},
   "source": [
    "#### Recuperando Contato"
   ]
  },
  {
   "cell_type": "code",
   "execution_count": null,
   "metadata": {},
   "outputs": [],
   "source": [
    "def recuperando_contatos_linkana(driver:webdriver.Edge):\n",
    "    lista = driver.find_elements(By.TAG_NAME, \"ul\")[0].text.split(\"\\n\")\n",
    "    email = lista[21]\n",
    "    telefone = lista[23]\n",
    "    contato = [email,telefone]\n",
    "    print(f\"Contato: {contato}\")\n",
    "    return contato\n",
    "\n"
   ]
  },
  {
   "cell_type": "markdown",
   "metadata": {},
   "source": [
    "#### Recuperando Socios"
   ]
  },
  {
   "cell_type": "code",
   "execution_count": null,
   "metadata": {},
   "outputs": [],
   "source": [
    "def recuperando_socios_linkana(driver:webdriver.Edge):\n",
    "    lista = driver.find_elements(By.TAG_NAME, \"ul\")[1].text.split(\"\\n\")\n",
    "    socios = []\n",
    "    for idx, item in enumerate(lista):\n",
    "        if idx % 2 == 0:\n",
    "            print(f\"{idx/2 + 1} - {item}\")\n",
    "            socios.append(item)\n",
    "    return socios"
   ]
  },
  {
   "cell_type": "markdown",
   "metadata": {},
   "source": [
    "#### Recuperando localização"
   ]
  },
  {
   "cell_type": "code",
   "execution_count": null,
   "metadata": {},
   "outputs": [],
   "source": [
    "def recuperando_endereco_linkana(driver:webdriver.Edge):\n",
    "    lista = driver.find_elements(By.TAG_NAME, \"ul\")[3].text.split(\"\\n\")\n",
    "    step = \"\"\n",
    "    endereco = []\n",
    "    for idx, item in enumerate(lista):\n",
    "        if idx % 2 == 0:\n",
    "            step = item\n",
    "        else:\n",
    "            endereco.append([step, item])\n",
    "    print(endereco)"
   ]
  },
  {
   "cell_type": "markdown",
   "metadata": {},
   "source": [
    "#### Recuperando Endereco"
   ]
  },
  {
   "cell_type": "code",
   "execution_count": null,
   "metadata": {},
   "outputs": [],
   "source": [
    "def buscar_empresa_linkana(nome_empresa, inscricao_empresa):\n",
    "    driver = iniciando_edge_selenium(URL_LINKANA)\n",
    "    \n",
    "    pesquisar_empresa_nome_linkana(nome_empresa, driver)\n",
    "\n",
    "    existe_empresa = verificar_existe_empresa_linkana()\n",
    "    if existe_empresa:\n",
    "        cnpj = recuperando_string_print(337, 584, 250, 60).split(\" \")[1]\n",
    "        cnpj_valido = verificar_cnpj_cresci(cnpj, inscricao_empresa)\n",
    "        if cnpj_valido:\n",
    "            pyautogui.click(337,584)\n",
    "            time.sleep(1)\n",
    "            contatos = recuperando_contatos_linkana(driver)\n",
    "            socios = recuperando_socios_linkana(driver)\n",
    "            enderecos = recuperando_endereco_linkana(driver)\n",
    "            return {\"Contatos\":contatos, \"Socios\": socios, \"Endereço\": enderecos}    \n",
    "    else:\n",
    "        print(\"Nenhuma empresa encontrada\")\n",
    "        \n",
    "    return False\n",
    "\n",
    "#buscar_empresa_linkana(\"2F IMOBILIARIA LTDAR\", \"10591\")"
   ]
  },
  {
   "cell_type": "code",
   "execution_count": null,
   "metadata": {},
   "outputs": [],
   "source": [
    "'''\n",
    "def teste_2():\n",
    "    driver = iniciando_edge_selenium(\"https://cnpj.linkana.com/cnpj/2f-imobiliaria-ltda/51884181000105\")\n",
    "    recuperando_contatos_linkana(driver)\n",
    "\n",
    "teste_2()'''\n",
    "    "
   ]
  },
  {
   "cell_type": "markdown",
   "metadata": {},
   "source": [
    "### Buscar no CNPJ INFO"
   ]
  },
  {
   "cell_type": "markdown",
   "metadata": {},
   "source": [
    "#### Pesquisar empresa no cnpj info"
   ]
  },
  {
   "cell_type": "code",
   "execution_count": null,
   "metadata": {},
   "outputs": [],
   "source": [
    "def pesquisar_empresa_nome_cnpjinfo(nome_empresa, driver):\n",
    "    campo_empresa = driver.find_elements(By.CSS_SELECTOR, \"h3 input\")[0]\n",
    "    campo_empresa.send_keys(nome_empresa)\n",
    "    campo_empresa.send_keys(Keys.RETURN)"
   ]
  },
  {
   "cell_type": "markdown",
   "metadata": {},
   "source": [
    "#### Recuperar CNPJ no cnpj info"
   ]
  },
  {
   "cell_type": "code",
   "execution_count": null,
   "metadata": {},
   "outputs": [],
   "source": [
    "def recuperar_cnpj_cnpjinfo(driver):\n",
    "    content = driver.find_element(By.ID, \"content\")\n",
    "    lista_empresas = content.find_elements(By.TAG_NAME, \"ul\")[0]\n",
    "    itens_lista_empresas = lista_empresas.find_elements(By.TAG_NAME, \"li\")\n",
    "    primeiro_item = itens_lista_empresas[0]\n",
    "    cnpj = primeiro_item.find_elements(By.TAG_NAME, \"a\")[0]\n",
    "    return cnpj\n"
   ]
  },
  {
   "cell_type": "markdown",
   "metadata": {},
   "source": [
    "#### Recuperar endereço"
   ]
  },
  {
   "cell_type": "code",
   "execution_count": null,
   "metadata": {},
   "outputs": [],
   "source": [
    "def recuperando_endereco_cnpjinfo(driver):\n",
    "    content = driver.find_element(By.ID, \"content\")\n",
    "    content_text = content.text\n",
    "    endereco = content_text.split(\"\\nEndereço\\n\")[1].split(\"\\nContatos\\n\")[0]\n",
    "    print(endereco)\n",
    "    return endereco"
   ]
  },
  {
   "cell_type": "markdown",
   "metadata": {},
   "source": [
    "#### Recuperar contatos"
   ]
  },
  {
   "cell_type": "code",
   "execution_count": null,
   "metadata": {},
   "outputs": [],
   "source": [
    "def recuperando_contatos_cnpjinfo(driver:webdriver.Edge):\n",
    "    content = driver.find_element(By.ID, \"content\").text\n",
    "    contatos = content.split(\"\\nTelefone(s): \")[1].split(\"\\nSócios\\n\")[0].strip().split(\" e \")\n",
    "    print(contatos)\n",
    "    return contatos\n",
    "    "
   ]
  },
  {
   "cell_type": "markdown",
   "metadata": {},
   "source": [
    "#### Recuperando Socios"
   ]
  },
  {
   "cell_type": "code",
   "execution_count": null,
   "metadata": {},
   "outputs": [],
   "source": [
    "def recuperando_socios_cnpjinfo(driver:webdriver.Edge):\n",
    "    content = driver.find_element(By.ID, \"content\").text\n",
    "    socios = content.split(\"Sócios\\nCódigo Nome Data de entrada Qualificação\\n\")[1].split(\"Atividades de negócios da empresa\")[0].split(\"\\n\")\n",
    "    print(socios)"
   ]
  },
  {
   "cell_type": "code",
   "execution_count": null,
   "metadata": {},
   "outputs": [],
   "source": [
    "def buscar_empresa_cnpjinfo(nome_empresa, inscricao_empresa):\n",
    "    driver = iniciando_edge_selenium(\"http://cnpj.info/\")\n",
    "    pesquisar_empresa_nome_cnpjinfo(nome_empresa, driver)\n",
    "    cnpj = recuperar_cnpj_cnpjinfo(driver)\n",
    "    cnpj_valido = verificar_cnpj_cresci(cnpj.text, inscricao_empresa)\n",
    "    if cnpj_valido:\n",
    "        cnpj.click()\n",
    "        endereco = recuperando_endereco_cnpjinfo(driver)\n",
    "        contatos = recuperando_contatos_cnpjinfo(driver)\n",
    "        socios = recuperando_socios_cnpjinfo(driver)\n",
    "        return {\"Contatos\":contatos, \"Socios\": socios, \"Endereço\": endereco}       \n",
    "    else:\n",
    "        print(\"CNPJ INVALIDO\")\n",
    "\n",
    "    return False\n",
    "\n",
    "#buscar_empresa_cnpjinfo(\"2M INTERMEDIAÇÕES LTDA\", \"10663\")"
   ]
  },
  {
   "cell_type": "code",
   "execution_count": null,
   "metadata": {},
   "outputs": [],
   "source": [
    "def teste():\n",
    "    driver = iniciando_edge_selenium(\"http://cnpj.info/24701445000167\")\n",
    "    time.sleep(5)\n",
    "    #content = driver.find_element(By.ID, \"content\")\n",
    "    recuperando_socios_cnpjinfo(driver)\n",
    "    #print(content.text)\n",
    "\n",
    "#teste()"
   ]
  },
  {
   "cell_type": "markdown",
   "metadata": {},
   "source": [
    "### Realizar Busca Completa"
   ]
  },
  {
   "cell_type": "markdown",
   "metadata": {},
   "source": [
    "#### Listas Empresas"
   ]
  },
  {
   "cell_type": "code",
   "execution_count": null,
   "metadata": {},
   "outputs": [],
   "source": [
    "lista_empresas_informacoes_validas = []\n",
    "lista_empresas_sem_informacoes = []"
   ]
  },
  {
   "cell_type": "markdown",
   "metadata": {},
   "source": [
    "#### Buscar empresa"
   ]
  },
  {
   "cell_type": "code",
   "execution_count": null,
   "metadata": {},
   "outputs": [],
   "source": [
    "def buscar_dados_empresa(empresa, indice, tb:pd.DataFrame):\n",
    "\n",
    "    nome_empresa = empresa[\"Identificação\"]\n",
    "    inscricao_empresa = empresa[\"Inscrição\"]\n",
    "    print(\"Nome Empresa:\", nome_empresa)\n",
    "    print(\"Inscricao Empresa\", inscricao_empresa)\n",
    "\n",
    "    dados_novos = {}\n",
    "\n",
    "    recuperou = buscar_empresa_cnpjbiz(nome_empresa, inscricao_empresa)\n",
    "    if not recuperou:\n",
    "        recuperou = buscar_empresa_linkana(nome_empresa, inscricao_empresa)\n",
    "        if not recuperou:\n",
    "            recuperou = buscar_empresa_cnpjinfo(nome_empresa, inscricao_empresa)\n",
    "            if not recuperou:\n",
    "                lista_empresas_sem_informacoes.append(empresa)\n",
    "            else:\n",
    "                dados_novos.update(recuperou)\n",
    "        else:\n",
    "            dados_novos.update(recuperou)\n",
    "    else:\n",
    "        dados_novos.update(recuperou)\n",
    "\n",
    "    if recuperou:\n",
    "        for idx, valor in dados_novos.items():\n",
    "            tb.at[indice, idx] = valor"
   ]
  },
  {
   "cell_type": "code",
   "execution_count": null,
   "metadata": {},
   "outputs": [],
   "source": [
    "#tijuca = dict_bairros_edit[\"Tijuca\"]\n",
    "#print(tijuca.iloc[0])\n",
    "#tijuca.at[0, \"Identificação\"] = \"2M INTERMEDIAÇÕES LTDA\"\n",
    "#buscar_dados_empresa(tijuca.iloc[0], 0, tijuca)\n",
    "\n",
    "#print(tijuca.iloc[0])\n",
    "def buscar_todas_empresas_bairro(df:pd.DataFrame):\n",
    "    novo_df = pd.DataFrame(columns=list(df.columns))\n",
    "    for idx, empresa in df.iterrows():\n",
    "        buscar_dados_empresa(empresa, idx, novo_df)\n",
    "    return novo_df"
   ]
  },
  {
   "cell_type": "code",
   "execution_count": null,
   "metadata": {},
   "outputs": [],
   "source": [
    "#buscar_todas_empresas_bairro()\n",
    "\n",
    "#print(dict_bairros_edit[\"Tijuca\"].iloc[0])"
   ]
  },
  {
   "cell_type": "markdown",
   "metadata": {},
   "source": [
    "## Conectar Google Sheets "
   ]
  },
  {
   "cell_type": "markdown",
   "metadata": {},
   "source": [
    "### Importando dependências"
   ]
  },
  {
   "cell_type": "code",
   "execution_count": 46,
   "metadata": {},
   "outputs": [],
   "source": [
    "import os.path\n",
    "\n",
    "from google.auth.transport.requests import Request\n",
    "from google.oauth2.credentials import Credentials\n",
    "from google_auth_oauthlib.flow import InstalledAppFlow\n",
    "from googleapiclient.discovery import build\n",
    "from googleapiclient.errors import HttpError\n",
    "from gspread_dataframe import set_with_dataframe\n",
    "import gspread"
   ]
  },
  {
   "cell_type": "markdown",
   "metadata": {},
   "source": [
    "### Criar Planilhas no GOOGLE SHEETS"
   ]
  },
  {
   "cell_type": "code",
   "execution_count": null,
   "metadata": {},
   "outputs": [],
   "source": [
    "def criar_planilha_gs(nome, service):\n",
    "    # Create the spreadsheet\n",
    "    planilha = {\"properties\": {\"title\": nome}}\n",
    "    planilha = (\n",
    "        service.spreadsheets()\n",
    "        .create(body=planilha, fields=\"spreadsheetId\")\n",
    "        .execute()\n",
    "    )\n",
    "    spreadsheet_id = planilha.get(\"spreadsheetId\")\n",
    "    print(f\"Spreadsheet ID: {spreadsheet_id}\")\n",
    "    return spreadsheet_id"
   ]
  },
  {
   "cell_type": "markdown",
   "metadata": {},
   "source": [
    "### Ler Planilhas no GOOGLE SHEETS"
   ]
  },
  {
   "cell_type": "code",
   "execution_count": null,
   "metadata": {},
   "outputs": [],
   "source": [
    "def ler_planilha(id_planilha, service, range=\"Página1!A:Z\"):\n",
    "    planilha = service.spreadsheets().values().get(spreadsheetId=id_planilha, range=range).execute()\n",
    "    print(planilha['values'])\n",
    "    return planilha"
   ]
  },
  {
   "cell_type": "markdown",
   "metadata": {},
   "source": [
    "### Editar planilhas no GOOGLE SHEETS"
   ]
  },
  {
   "cell_type": "code",
   "execution_count": 45,
   "metadata": {},
   "outputs": [],
   "source": [
    "def editar_planilha(id_planilha, service, novo_conteudo, range=\"Pagina1!A\"):\n",
    "    planilha = service.spreadsheets().values().update(\n",
    "        spreadsheetId=id_planilha,\n",
    "        range=range, valueInputOption=\"USER_ENTERED\",\n",
    "        body={'values':novo_conteudo}\n",
    "    ).execute()\n",
    "    return planilha"
   ]
  },
  {
   "cell_type": "markdown",
   "metadata": {},
   "source": [
    "### Transforma Dataframe em Lista"
   ]
  },
  {
   "cell_type": "code",
   "execution_count": 44,
   "metadata": {},
   "outputs": [],
   "source": [
    "def transforma_dataframe_em_lista(dataframe:pd.DataFrame, add_columns=False):\n",
    "    nova_lista = []\n",
    "    columns = list(dataframe.columns)\n",
    "    if add_columns:\n",
    "        nova_lista.append(columns)\n",
    "    for index, linha in dataframe.iterrows():\n",
    "        itens_lista = []\n",
    "        for item in linha:\n",
    "            itens_lista.append(item)\n",
    "        nova_lista.append(itens_lista)\n",
    "    return nova_lista"
   ]
  },
  {
   "cell_type": "markdown",
   "metadata": {},
   "source": [
    "### Validar Token GOOGLE SHEETS"
   ]
  },
  {
   "cell_type": "code",
   "execution_count": 43,
   "metadata": {},
   "outputs": [],
   "source": [
    "SCOPES = [\"https://www.googleapis.com/auth/drive\", \"https://www.googleapis.com/auth/spreadsheets\"]\n",
    "\n",
    "def validar_token_google_sheets():\n",
    "  creds = None\n",
    "  # The file token.json stores the user's access and refresh tokens, and is\n",
    "  # created automatically when the authorization flow completes for the first\n",
    "  # time.\n",
    "  if os.path.exists(\"token.json\"):\n",
    "    creds = Credentials.from_authorized_user_file(\"token.json\", SCOPES)\n",
    "  # If there are no (valid) credentials available, let the user log in.\n",
    "  if not creds or not creds.valid:\n",
    "    if creds and creds.expired and creds.refresh_token:\n",
    "      creds.refresh(Request())\n",
    "    else:\n",
    "      flow = InstalledAppFlow.from_client_secrets_file(\n",
    "          \"client_secret.json\", SCOPES\n",
    "      )\n",
    "      creds = flow.run_local_server(port=0)\n",
    "    # Save the credentials for the next run\n",
    "    with open(\"token.json\", \"w\") as token:\n",
    "      token.write(creds.to_json())\n",
    "  return creds"
   ]
  },
  {
   "cell_type": "markdown",
   "metadata": {},
   "source": [
    "### Transformar Dataframe em planilha"
   ]
  },
  {
   "cell_type": "code",
   "execution_count": 52,
   "metadata": {},
   "outputs": [],
   "source": [
    "# If modifying these scopes, delete the file token.json.\n",
    "SCOPES = [\"https://www.googleapis.com/auth/spreadsheets\"]\n",
    "id_planilha = \"1AeDuHW7f4-7vBVCgQvMBYqx2ZCTxcO7D0qbzMZ2l8Ps\"\n",
    "\n",
    "def transformar_dataframe_planilha(title, dataframe):\n",
    "    creds = validar_token_google_sheets()\n",
    "    ordem_df = [\"Inscrição\", \"Identificação\", \"Situação\", \"Certidão de Regularidade\", \"Contato\", \"Natureza\", \"Bairro\"]\t\n",
    "    if all(coluna in dataframe.columns for coluna in ordem_df):\n",
    "        dataframe = dataframe[ordem_df]\t\t\t\t\t\t\t\t\t\t\t\t\t\t\t\t\t\n",
    "        service = build(\"sheets\", \"v4\", credentials=creds)\n",
    "        conteudo_para_adicionar = transforma_dataframe_em_lista(dataframe, add_columns=True)\n",
    "        editar_planilha(id_planilha, service, conteudo_para_adicionar, range=f\"{title}!A1:Z\")\n",
    "\n",
    "    print(f\"Planilha Editada - {title}\")"
   ]
  },
  {
   "cell_type": "code",
   "execution_count": 61,
   "metadata": {},
   "outputs": [
    {
     "name": "stdout",
     "output_type": "stream",
     "text": [
      "Planilha Editada - Jardim Guanabara\n",
      "Planilha Editada - Maré\n",
      "Planilha Editada - Moneró\n",
      "Planilha Editada - Olaria\n",
      "Planilha Editada - Pitangueiras\n",
      "Planilha Editada - Portuguesa\n",
      "Planilha Editada - Praia da Bandeira\n",
      "Planilha Editada - Ramos\n",
      "Planilha Editada - Ribeira\n",
      "Planilha Editada - Tauá\n",
      "Planilha Editada - Zumbi\n",
      "Planilha Editada - Alto da Boa Vista\n",
      "Planilha Editada - Andaraí\n",
      "Planilha Editada - Grajaú\n",
      "Planilha Editada - Maracanã\n",
      "Planilha Editada - Praça da Bandeira\n",
      "Planilha Editada - Tijuca\n",
      "Planilha Editada - Vila Isabel\n",
      "Planilha Editada - Barra da Tijuca\n",
      "Planilha Editada - Abolição\n",
      "Planilha Editada - Agua Santa\n",
      "Planilha Editada - Cachambi\n",
      "Planilha Editada - Del Castilho\n",
      "Planilha Editada - Encantado\n",
      "Planilha Editada - Engenho de Dentro\n",
      "Planilha Editada - Engenho Novo\n",
      "Planilha Editada - Higienópolis\n",
      "Planilha Editada - Jacaré\n",
      "Planilha Editada - Jacarezinho\n",
      "Planilha Editada - Lins de Vasconcelos\n",
      "Planilha Editada - Manguinhos\n",
      "Planilha Editada - Maria da Graça\n",
      "Planilha Editada - Méier\n",
      "Planilha Editada - Piedade\n",
      "Planilha Editada - Pilares\n",
      "Planilha Editada - Riachuelo\n",
      "Planilha Editada - Rocha\n",
      "Planilha Editada - Sampaio\n",
      "Planilha Editada - São Francisco Xavier\n",
      "Planilha Editada - Todos os Santos\n"
     ]
    }
   ],
   "source": [
    "for bairro, tb in dict_bairros_edit.items():\n",
    "    transformar_dataframe_planilha(bairro, tb)"
   ]
  },
  {
   "cell_type": "markdown",
   "metadata": {},
   "source": [
    "### Recuperar planilha bairros"
   ]
  },
  {
   "cell_type": "code",
   "execution_count": null,
   "metadata": {},
   "outputs": [],
   "source": [
    "import gspread\n",
    "from oauth2client.service_account import ServiceAccountCredentials\n",
    "import pandas as pd\n",
    "\n",
    "def baixar_pagina_planilha(nome_planilha, nome_pagina):\n",
    "  creds = validar_token_google_sheets()\n",
    "    # Substitua pelo nome do seu arquivo de credenciais\n",
    "\n",
    "  # Autorize e abra a planilha\n",
    "  client = gspread.authorize(creds)\n",
    "  spreadsheet = client.open(nome_planilha)  # Substitua pelo nome da sua planilha\n",
    "  worksheet = spreadsheet.worksheet(nome_pagina)  # Substitua \"Tijuca\" pelo nome da sua página\n",
    "\n",
    "  # Obtenha os dados da planilha como uma lista de dicionários\n",
    "  data = worksheet.get_all_records()\n",
    "\n",
    "  # Converta os dados em um DataFrame do Pandas\n",
    "  df = pd.DataFrame(data)\n",
    "\n",
    "  # Agora você pode usar df para trabalhar com seus dados\n",
    "  return df"
   ]
  },
  {
   "cell_type": "markdown",
   "metadata": {},
   "source": [
    "### Remover PF"
   ]
  },
  {
   "cell_type": "code",
   "execution_count": 62,
   "metadata": {},
   "outputs": [],
   "source": [
    "def remover_empresas_pf(df):\n",
    "    novo_df = pd.DataFrame(columns=list(df.columns))\n",
    "    for idx, empresa in df.iterrows():\n",
    "        print(empresa[\"Natureza\"])\n",
    "        if \"PJ\" in empresa[\"Natureza\"]:\n",
    "            novo_df.append(empresa)\n",
    "        \n",
    "    return novo_df\n"
   ]
  },
  {
   "cell_type": "markdown",
   "metadata": {},
   "source": [
    "### Atualizar Planilha Google Sheets"
   ]
  },
  {
   "cell_type": "code",
   "execution_count": 63,
   "metadata": {},
   "outputs": [],
   "source": [
    "def remover_planilha_adicionar_df(nome_planilha, nome_pagina, novo_df):\n",
    "    creds = validar_token_google_sheets()\n",
    "    client = gspread.authorize(creds)\n",
    "    spreadsheet = client.open(nome_planilha)\n",
    "    worksheet = spreadsheet.worksheet(nome_pagina)\n",
    "\n",
    "    # Limpar os dados na planilha\n",
    "    worksheet.clear()\n",
    "    # Atualizar a planilha com os dados atualizados\n",
    "    novo_df_list = transforma_dataframe_em_lista(novo_df, add_columns=True)\n",
    "    worksheet.append_rows(novo_df_list)\n",
    "    print(\"Planilha atualizada\")"
   ]
  }
 ],
 "metadata": {
  "kernelspec": {
   "display_name": "base",
   "language": "python",
   "name": "python3"
  },
  "language_info": {
   "codemirror_mode": {
    "name": "ipython",
    "version": 3
   },
   "file_extension": ".py",
   "mimetype": "text/x-python",
   "name": "python",
   "nbconvert_exporter": "python",
   "pygments_lexer": "ipython3",
   "version": "3.11.8"
  }
 },
 "nbformat": 4,
 "nbformat_minor": 2
}
