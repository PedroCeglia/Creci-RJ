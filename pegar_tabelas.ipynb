{
 "cells": [
  {
   "cell_type": "markdown",
   "metadata": {},
   "source": [
    "# Corretoras e Imobiliarias\n",
    "\n",
    "Vamos pegar as tabelas de todos os corretores e imobiliarias do rio de janeiro"
   ]
  },
  {
   "cell_type": "code",
   "execution_count": 25,
   "metadata": {},
   "outputs": [],
   "source": [
    "import time\n",
    "import pandas as pd\n",
    "from selenium import webdriver\n",
    "from selenium.webdriver.common.keys import Keys\n",
    "from io import StringIO"
   ]
  },
  {
   "cell_type": "code",
   "execution_count": 27,
   "metadata": {},
   "outputs": [],
   "source": [
    "lista_bairros_zona_norte = [\n",
    "    \"Acari\", \"Anchieta\", \"Barros Filho\", \"Bento Ribeiro\", \"Brás de Pina\", \"Campinho\", \"Cavalcanti\", \"Cascadura\", \"Coelho Neto\", \"Colégio\",\n",
    "    \"Complexo do Alemão\", \"Cordovil\", \"Costa Barros\", \"Engenheiro Leal\", \"Engenho da Rainha\", \"Guadalupe\", \"Honório Gurgel\", \"Inhaúma\", \"Irajá\",\n",
    "    \"Jardim América\", \"Madureira\", \"Marechal Hermes\", \"Oswaldo Cruz\", \"Parada de Lucas\", \"Parque Anchieta\", \"Parque Colúmbia\", \"Pavuna\", \"Penha\",\n",
    "    \"Penha Circular\", \"Quintinho Bocaiuva\", \"Ricardo de Albuquerque\", \"Rocha Miranda\", \"Tómas Coelho\", \"Turiaçu\", \"Vaz Lobo\", \"Vicente de Carvalho\",\n",
    "    \"Vigário Geral\", \"Vila da Penha\", \"Vila Kosmos\", \"Vista Alegre\" \n",
    "]\n",
    "lista_bairros_ilha_gov_leopoldina = [\n",
    "    \"Bomsucesso\", \"Bancários\", \"Cacuia\", \"Cidade Universitária\", \"Cocotá\", \"Freguesia\", \"Galeão\", \"Jardim Carioca\", \"Jardim Guanabara\", \"Maré\",\n",
    "    \"Moneró\", \"Olaria\", \"Pitangueiras\", \"Portuguesa\", \"Praia da Bandeira\", \"Ramos\", \"Ribeira\", \"Tauá\", \"Zumbi\" \n",
    "]\n",
    "lista_bairros_tijuca = [\n",
    "    \"Alto da Boa Vista\", \"Andaraí\", \"Grajaú\", \"Maracanã\", \"Praça da Bandeira\", \"Tijuca\", \"Vila Isabel\", \n",
    "]\n",
    "lista_bairros_meier = [\n",
    "    \"Abolição\", \"Agua Santa\", \"Cachambi\", \"Del Castilho\", \"Encantado\", \"Engenho de Dentro\", \"Engenho Novo\", \"Higienópolis\", \"Jacaré\", \"Jacarezinho\",\n",
    "    \"Lins de Vasconcelos\", \"Manguinhos\", \"Maria da Graça\", \"Méier\", \"Piedade\", \"Pilares\", \"Riachuelo\", \"Rocha\", \"Sampaio\", \"São Francisco Xavier\",\n",
    "    \"Todos os Santos\",  \n",
    "]"
   ]
  },
  {
   "cell_type": "code",
   "execution_count": 28,
   "metadata": {},
   "outputs": [],
   "source": [
    "lista_bairros = lista_bairros_zona_norte + lista_bairros_ilha_gov_leopoldina + lista_bairros_tijuca + lista_bairros_meier\n",
    "dict_bairros = {}"
   ]
  },
  {
   "cell_type": "code",
   "execution_count": 29,
   "metadata": {},
   "outputs": [],
   "source": [
    "def baixar_tabela_por_bairro(bairro):\n",
    "    url = 'https://www.crecirj.conselho.net.br/form_pesquisa_cadastro_geral_site.php'\n",
    "    driver = webdriver.Edge()\n",
    "\n",
    "    #Abrir pagina\n",
    "    driver.get(url)\n",
    "    # Localiza os campos do formulário e preenche-os\n",
    "    campo_bairro = driver.find_element(\"id\", \"input-27\")\n",
    "    campo_bairro.send_keys(bairro)\n",
    "\n",
    "    # Envie o formulário\n",
    "    campo_bairro.send_keys(Keys.RETURN)\n",
    "\n",
    "    # Aguarde um tempo para a página carregar completamente\n",
    "    time.sleep(2)\n",
    "\n",
    "    # Encontra a tabela na página\n",
    "    try:\n",
    "        table = driver.find_elements('css selector', 'table')\n",
    "        table_html = table[0].get_attribute('outerHTML')\n",
    "    except IndexError:\n",
    "        print(f\"Não existe nenhuma corretora/imobiliaria em {bairro}!\")\n",
    "        print(f\"Verifique se o nome do bairro esta certo! {bairro}\\n\")\n",
    "        driver.quit()\n",
    "        return pd.DataFrame()\n",
    "    else:\n",
    "        df = pd.read_html(StringIO(table_html))[0]  # Este método retorna uma lista de DataFrames, portanto, pegamos o primeiro\n",
    "        driver.quit()\n",
    "        return df"
   ]
  },
  {
   "cell_type": "code",
   "execution_count": 30,
   "metadata": {},
   "outputs": [],
   "source": [
    "for i in range(10):\n",
    "    bairro = lista_bairros[i]\n",
    "    tabela_bairro = baixar_tabela_por_bairro(bairro)\n",
    "    dict_bairros.update({bairro:tabela_bairro})"
   ]
  },
  {
   "cell_type": "code",
   "execution_count": 8,
   "metadata": {},
   "outputs": [
    {
     "name": "stdout",
     "output_type": "stream",
     "text": [
      "Não existe nenhuma corretora/imobiliaria em Tijuca!\n",
      "Verifique se o nome do bairro esta certo! Tijuca\n",
      "\n"
     ]
    }
   ],
   "source": [
    "tabela_bairro_tijuca = baixar_tabela_por_bairro(\"Tijuca\")\n",
    "\n",
    "dict_bairros.update({\"Tijuca\":tabela_bairro_tijuca})"
   ]
  },
  {
   "cell_type": "code",
   "execution_count": 31,
   "metadata": {},
   "outputs": [],
   "source": [
    "dict_bairros_edit = dict_bairros.copy()"
   ]
  },
  {
   "cell_type": "code",
   "execution_count": null,
   "metadata": {},
   "outputs": [],
   "source": [
    "'''\n",
    "dict_imobiliaria_ativa_disponivel = {}\n",
    "acari = dict_bairros_edit['Acari']\n",
    "display(acari['Situação'].value_counts(normalize=True).map('{:.1%}'.format))\n",
    "\n",
    "for i in acari:\n",
    "    print(i)\n",
    "'''\n",
    "for bairro, tb in dict_bairros_edit.items():\n",
    "    print(bairro)"
   ]
  },
  {
   "cell_type": "code",
   "execution_count": null,
   "metadata": {},
   "outputs": [],
   "source": [
    "def bairros_ativos_disponiveis(bairros):\n",
    "    novo_dict = {}\n",
    "    for bairro_nome, bairro_tabela in bairros.items():\n",
    "        print(bairro_nome)\n",
    "        if not bairro_tabela.empty:\n",
    "            nova_tabela = bairro_tabela.loc[bairro_tabela[\"Situação\"] == \"ATIVO\"]\n",
    "            nova_tabela = nova_tabela.loc[bairro_tabela[\"Certidão de Regularidade\"] == \"REGULAR\"]\n",
    "            novo_dict.update({bairro_nome:nova_tabela})\n",
    "        else:\n",
    "            print(\"Vazio\",bairro_nome)\n",
    "    return novo_dict.copy()\n",
    "\n",
    "print(len(dict_bairros_edit))\n",
    "dict_imobiliaria_ativa_disponivel = bairros_ativos_disponiveis(dict_bairros_edit)\n",
    "print(len(dict_imobiliaria_ativa_disponivel))"
   ]
  },
  {
   "cell_type": "code",
   "execution_count": null,
   "metadata": {},
   "outputs": [],
   "source": [
    "\n",
    "def descobrir_cnpj(razao_social):\n",
    "    url = \"https://cnpj.linkana.com\"\n",
    "    driver = webdriver.Edge()\n",
    "    driver.get(url)\n",
    "    \n",
    "    time.sleep(1)\n",
    "\n",
    "    campo_razao_social = driver.find_element(\"id\", \"q\")\n",
    "    campo_razao_social.send_keys(razao_social)\n",
    "\n",
    "    # Envie o formulário\n",
    "    campo_razao_social.send_keys(Keys.RETURN)\n",
    "    time.sleep(5)\n",
    "\n",
    "    \n",
    "tabela_acari = dict_imobiliaria_ativa_disponivel['Acari']\n",
    "\n",
    "display(tabela_acari)\n",
    "\n",
    "for linha in tabela_acari.itertuples():\n",
    "    \n",
    "    razao_social = linha.Identificação\n",
    "    razao_social = razao_social.replace(\" PF P\", \"\")\n",
    "    \n",
    "    print(razao_social)"
   ]
  },
  {
   "cell_type": "markdown",
   "metadata": {},
   "source": [
    "## Conectar Google Sheets "
   ]
  },
  {
   "cell_type": "code",
   "execution_count": 35,
   "metadata": {},
   "outputs": [],
   "source": [
    "import os.path\n",
    "\n",
    "from google.auth.transport.requests import Request\n",
    "from google.oauth2.credentials import Credentials\n",
    "from google_auth_oauthlib.flow import InstalledAppFlow\n",
    "from googleapiclient.discovery import build\n",
    "from googleapiclient.errors import HttpError\n",
    "from gspread_dataframe import set_with_dataframe\n",
    "import gspread"
   ]
  },
  {
   "cell_type": "code",
   "execution_count": 36,
   "metadata": {},
   "outputs": [
    {
     "name": "stdout",
     "output_type": "stream",
     "text": [
      "Spreadsheet ID: 1BOfdWtUCIrzLP0RVR2YM4FIWCRI73ZyG-EZoINMrFos\n"
     ]
    },
    {
     "ename": "FileNotFoundError",
     "evalue": "[Errno 2] No such file or directory: 'C:\\\\Users\\\\cegli\\\\AppData\\\\Roaming\\\\gspread\\\\service_account.json'",
     "output_type": "error",
     "traceback": [
      "\u001b[1;31m---------------------------------------------------------------------------\u001b[0m",
      "\u001b[1;31mFileNotFoundError\u001b[0m                         Traceback (most recent call last)",
      "Cell \u001b[1;32mIn[36], line 62\u001b[0m\n\u001b[0;32m     60\u001b[0m \u001b[38;5;28;01mif\u001b[39;00m \u001b[38;5;18m__name__\u001b[39m \u001b[38;5;241m==\u001b[39m \u001b[38;5;124m\"\u001b[39m\u001b[38;5;124m__main__\u001b[39m\u001b[38;5;124m\"\u001b[39m:\n\u001b[0;32m     61\u001b[0m   acari \u001b[38;5;241m=\u001b[39m dict_bairros_edit[\u001b[38;5;124m\"\u001b[39m\u001b[38;5;124mAcari\u001b[39m\u001b[38;5;124m\"\u001b[39m]\n\u001b[1;32m---> 62\u001b[0m   \u001b[43mcreate\u001b[49m\u001b[43m(\u001b[49m\u001b[38;5;124;43m\"\u001b[39;49m\u001b[38;5;124;43mAcari\u001b[39;49m\u001b[38;5;124;43m\"\u001b[39;49m\u001b[43m,\u001b[49m\u001b[43m \u001b[49m\u001b[43macari\u001b[49m\u001b[43m)\u001b[49m\n",
      "Cell \u001b[1;32mIn[36], line 47\u001b[0m, in \u001b[0;36mcreate\u001b[1;34m(title, dataframe)\u001b[0m\n\u001b[0;32m     45\u001b[0m \u001b[38;5;66;03m# Insert DataFrame data into the spreadsheet\u001b[39;00m\n\u001b[0;32m     46\u001b[0m \u001b[38;5;28;01mif\u001b[39;00m \u001b[38;5;28misinstance\u001b[39m(dataframe, pd\u001b[38;5;241m.\u001b[39mDataFrame):\n\u001b[1;32m---> 47\u001b[0m     gc \u001b[38;5;241m=\u001b[39m \u001b[43mgspread\u001b[49m\u001b[38;5;241;43m.\u001b[39;49m\u001b[43mservice_account\u001b[49m\u001b[43m(\u001b[49m\u001b[43m)\u001b[49m\n\u001b[0;32m     48\u001b[0m     sh \u001b[38;5;241m=\u001b[39m gc\u001b[38;5;241m.\u001b[39mopen_by_key(spreadsheet_id)\n\u001b[0;32m     49\u001b[0m     worksheet \u001b[38;5;241m=\u001b[39m sh\u001b[38;5;241m.\u001b[39msheet1  \u001b[38;5;66;03m# Assuming data goes to the first sheet\u001b[39;00m\n",
      "File \u001b[1;32mc:\\Users\\cegli\\anaconda3\\envs\\pedroceglia\\Lib\\site-packages\\gspread\\auth.py:323\u001b[0m, in \u001b[0;36mservice_account\u001b[1;34m(filename, scopes, http_client)\u001b[0m\n\u001b[0;32m    294\u001b[0m \u001b[38;5;28;01mdef\u001b[39;00m \u001b[38;5;21mservice_account\u001b[39m(\n\u001b[0;32m    295\u001b[0m     filename: Union[Path, \u001b[38;5;28mstr\u001b[39m] \u001b[38;5;241m=\u001b[39m DEFAULT_SERVICE_ACCOUNT_FILENAME,\n\u001b[0;32m    296\u001b[0m     scopes: Iterable[\u001b[38;5;28mstr\u001b[39m] \u001b[38;5;241m=\u001b[39m DEFAULT_SCOPES,\n\u001b[0;32m    297\u001b[0m     http_client: HTTPClientType \u001b[38;5;241m=\u001b[39m HTTPClient,\n\u001b[0;32m    298\u001b[0m ) \u001b[38;5;241m-\u001b[39m\u001b[38;5;241m>\u001b[39m Client:\n\u001b[0;32m    299\u001b[0m \u001b[38;5;250m    \u001b[39m\u001b[38;5;124;03m\"\"\"Authenticate using a service account.\u001b[39;00m\n\u001b[0;32m    300\u001b[0m \n\u001b[0;32m    301\u001b[0m \u001b[38;5;124;03m    ``scopes`` parameter defaults to read/write scope available in\u001b[39;00m\n\u001b[1;32m   (...)\u001b[0m\n\u001b[0;32m    321\u001b[0m \u001b[38;5;124;03m    :rtype: :class:`gspread.client.Client`\u001b[39;00m\n\u001b[0;32m    322\u001b[0m \u001b[38;5;124;03m    \"\"\"\u001b[39;00m\n\u001b[1;32m--> 323\u001b[0m     creds \u001b[38;5;241m=\u001b[39m \u001b[43mSACredentials\u001b[49m\u001b[38;5;241;43m.\u001b[39;49m\u001b[43mfrom_service_account_file\u001b[49m\u001b[43m(\u001b[49m\u001b[43mfilename\u001b[49m\u001b[43m,\u001b[49m\u001b[43m \u001b[49m\u001b[43mscopes\u001b[49m\u001b[38;5;241;43m=\u001b[39;49m\u001b[43mscopes\u001b[49m\u001b[43m)\u001b[49m\n\u001b[0;32m    324\u001b[0m     \u001b[38;5;28;01mreturn\u001b[39;00m Client(auth\u001b[38;5;241m=\u001b[39mcreds, http_client\u001b[38;5;241m=\u001b[39mhttp_client)\n",
      "File \u001b[1;32mc:\\Users\\cegli\\anaconda3\\envs\\pedroceglia\\Lib\\site-packages\\google\\oauth2\\service_account.py:258\u001b[0m, in \u001b[0;36mCredentials.from_service_account_file\u001b[1;34m(cls, filename, **kwargs)\u001b[0m\n\u001b[0;32m    246\u001b[0m \u001b[38;5;129m@classmethod\u001b[39m\n\u001b[0;32m    247\u001b[0m \u001b[38;5;28;01mdef\u001b[39;00m \u001b[38;5;21mfrom_service_account_file\u001b[39m(\u001b[38;5;28mcls\u001b[39m, filename, \u001b[38;5;241m*\u001b[39m\u001b[38;5;241m*\u001b[39mkwargs):\n\u001b[0;32m    248\u001b[0m \u001b[38;5;250m    \u001b[39m\u001b[38;5;124;03m\"\"\"Creates a Credentials instance from a service account json file.\u001b[39;00m\n\u001b[0;32m    249\u001b[0m \n\u001b[0;32m    250\u001b[0m \u001b[38;5;124;03m    Args:\u001b[39;00m\n\u001b[1;32m   (...)\u001b[0m\n\u001b[0;32m    256\u001b[0m \u001b[38;5;124;03m            credentials.\u001b[39;00m\n\u001b[0;32m    257\u001b[0m \u001b[38;5;124;03m    \"\"\"\u001b[39;00m\n\u001b[1;32m--> 258\u001b[0m     info, signer \u001b[38;5;241m=\u001b[39m \u001b[43m_service_account_info\u001b[49m\u001b[38;5;241;43m.\u001b[39;49m\u001b[43mfrom_filename\u001b[49m\u001b[43m(\u001b[49m\n\u001b[0;32m    259\u001b[0m \u001b[43m        \u001b[49m\u001b[43mfilename\u001b[49m\u001b[43m,\u001b[49m\u001b[43m \u001b[49m\u001b[43mrequire\u001b[49m\u001b[38;5;241;43m=\u001b[39;49m\u001b[43m[\u001b[49m\u001b[38;5;124;43m\"\u001b[39;49m\u001b[38;5;124;43mclient_email\u001b[39;49m\u001b[38;5;124;43m\"\u001b[39;49m\u001b[43m,\u001b[49m\u001b[43m \u001b[49m\u001b[38;5;124;43m\"\u001b[39;49m\u001b[38;5;124;43mtoken_uri\u001b[39;49m\u001b[38;5;124;43m\"\u001b[39;49m\u001b[43m]\u001b[49m\n\u001b[0;32m    260\u001b[0m \u001b[43m    \u001b[49m\u001b[43m)\u001b[49m\n\u001b[0;32m    261\u001b[0m     \u001b[38;5;28;01mreturn\u001b[39;00m \u001b[38;5;28mcls\u001b[39m\u001b[38;5;241m.\u001b[39m_from_signer_and_info(signer, info, \u001b[38;5;241m*\u001b[39m\u001b[38;5;241m*\u001b[39mkwargs)\n",
      "File \u001b[1;32mc:\\Users\\cegli\\anaconda3\\envs\\pedroceglia\\Lib\\site-packages\\google\\auth\\_service_account_info.py:78\u001b[0m, in \u001b[0;36mfrom_filename\u001b[1;34m(filename, require, use_rsa_signer)\u001b[0m\n\u001b[0;32m     64\u001b[0m \u001b[38;5;28;01mdef\u001b[39;00m \u001b[38;5;21mfrom_filename\u001b[39m(filename, require\u001b[38;5;241m=\u001b[39m\u001b[38;5;28;01mNone\u001b[39;00m, use_rsa_signer\u001b[38;5;241m=\u001b[39m\u001b[38;5;28;01mTrue\u001b[39;00m):\n\u001b[0;32m     65\u001b[0m \u001b[38;5;250m    \u001b[39m\u001b[38;5;124;03m\"\"\"Reads a Google service account JSON file and returns its parsed info.\u001b[39;00m\n\u001b[0;32m     66\u001b[0m \n\u001b[0;32m     67\u001b[0m \u001b[38;5;124;03m    Args:\u001b[39;00m\n\u001b[1;32m   (...)\u001b[0m\n\u001b[0;32m     76\u001b[0m \u001b[38;5;124;03m            info and a signer instance.\u001b[39;00m\n\u001b[0;32m     77\u001b[0m \u001b[38;5;124;03m    \"\"\"\u001b[39;00m\n\u001b[1;32m---> 78\u001b[0m     \u001b[38;5;28;01mwith\u001b[39;00m \u001b[43mio\u001b[49m\u001b[38;5;241;43m.\u001b[39;49m\u001b[43mopen\u001b[49m\u001b[43m(\u001b[49m\u001b[43mfilename\u001b[49m\u001b[43m,\u001b[49m\u001b[43m \u001b[49m\u001b[38;5;124;43m\"\u001b[39;49m\u001b[38;5;124;43mr\u001b[39;49m\u001b[38;5;124;43m\"\u001b[39;49m\u001b[43m,\u001b[49m\u001b[43m \u001b[49m\u001b[43mencoding\u001b[49m\u001b[38;5;241;43m=\u001b[39;49m\u001b[38;5;124;43m\"\u001b[39;49m\u001b[38;5;124;43mutf-8\u001b[39;49m\u001b[38;5;124;43m\"\u001b[39;49m\u001b[43m)\u001b[49m \u001b[38;5;28;01mas\u001b[39;00m json_file:\n\u001b[0;32m     79\u001b[0m         data \u001b[38;5;241m=\u001b[39m json\u001b[38;5;241m.\u001b[39mload(json_file)\n\u001b[0;32m     80\u001b[0m         \u001b[38;5;28;01mreturn\u001b[39;00m data, from_dict(data, require\u001b[38;5;241m=\u001b[39mrequire, use_rsa_signer\u001b[38;5;241m=\u001b[39muse_rsa_signer)\n",
      "\u001b[1;31mFileNotFoundError\u001b[0m: [Errno 2] No such file or directory: 'C:\\\\Users\\\\cegli\\\\AppData\\\\Roaming\\\\gspread\\\\service_account.json'"
     ]
    }
   ],
   "source": [
    "# If modifying these scopes, delete the file token.json.\n",
    "SCOPES = [\"https://www.googleapis.com/auth/spreadsheets\"]\n",
    "\n",
    "# The ID and range of a sample spreadsheet.\n",
    "SAMPLE_SPREADSHEET_ID = \"1K1f9cY6HhO-iSG2Yop97XnMZlbDmYJihXISnzXq4w34\"\n",
    "SAMPLE_RANGE_NAME = \"Class Data!A2:E\"\n",
    "\n",
    "\n",
    "def create(title, dataframe):\n",
    "  \"\"\"Shows basic usage of the Sheets API.\n",
    "  Prints values from a sample spreadsheet.\n",
    "  \"\"\"\n",
    "  creds = None\n",
    "  # The file token.json stores the user's access and refresh tokens, and is\n",
    "  # created automatically when the authorization flow completes for the first\n",
    "  # time.\n",
    "  if os.path.exists(\"token.json\"):\n",
    "    creds = Credentials.from_authorized_user_file(\"token.json\", SCOPES)\n",
    "  # If there are no (valid) credentials available, let the user log in.\n",
    "  if not creds or not creds.valid:\n",
    "    if creds and creds.expired and creds.refresh_token:\n",
    "      creds.refresh(Request())\n",
    "    else:\n",
    "      flow = InstalledAppFlow.from_client_secrets_file(\n",
    "          \"client_secret.json\", SCOPES\n",
    "      )\n",
    "      creds = flow.run_local_server(port=0)\n",
    "    # Save the credentials for the next run\n",
    "    with open(\"token.json\", \"w\") as token:\n",
    "      token.write(creds.to_json())\n",
    "\n",
    "  try:\n",
    "    service = build(\"sheets\", \"v4\", credentials=creds)\n",
    "    \n",
    "    # Create the spreadsheet\n",
    "    spreadsheet = {\"properties\": {\"title\": title}}\n",
    "    spreadsheet = (\n",
    "        service.spreadsheets()\n",
    "        .create(body=spreadsheet, fields=\"spreadsheetId\")\n",
    "        .execute()\n",
    "    )\n",
    "    spreadsheet_id = spreadsheet.get(\"spreadsheetId\")\n",
    "    print(f\"Spreadsheet ID: {spreadsheet_id}\")\n",
    "    \n",
    "    # Insert DataFrame data into the spreadsheet\n",
    "    if isinstance(dataframe, pd.DataFrame):\n",
    "        gc = gspread.service_account()\n",
    "        sh = gc.open_by_key(spreadsheet_id)\n",
    "        worksheet = sh.sheet1  # Assuming data goes to the first sheet\n",
    "        set_with_dataframe(worksheet, dataframe)  # Set DataFrame into the worksheet\n",
    "        print(\"Data inserted successfully.\")\n",
    "    else:\n",
    "        print(\"Invalid DataFrame.\")\n",
    "    \n",
    "    return spreadsheet_id\n",
    "  except HttpError as err:\n",
    "    print(err)\n",
    "\n",
    "\n",
    "if __name__ == \"__main__\":\n",
    "  acari = dict_bairros_edit[\"Acari\"]\n",
    "  create(\"Acari\", acari)"
   ]
  },
  {
   "cell_type": "code",
   "execution_count": 21,
   "metadata": {},
   "outputs": [
    {
     "ename": "DefaultCredentialsError",
     "evalue": "Your default credentials were not found. To set up Application Default Credentials, see https://cloud.google.com/docs/authentication/external/set-up-adc for more information.",
     "output_type": "error",
     "traceback": [
      "\u001b[1;31m---------------------------------------------------------------------------\u001b[0m",
      "\u001b[1;31mDefaultCredentialsError\u001b[0m                   Traceback (most recent call last)",
      "Cell \u001b[1;32mIn[21], line 53\u001b[0m\n\u001b[0;32m     50\u001b[0m df \u001b[38;5;241m=\u001b[39m pd\u001b[38;5;241m.\u001b[39mDataFrame(data)\n\u001b[0;32m     52\u001b[0m \u001b[38;5;66;03m# Pass: title and DataFrame\u001b[39;00m\n\u001b[1;32m---> 53\u001b[0m \u001b[43mcreate\u001b[49m\u001b[43m(\u001b[49m\u001b[38;5;124;43m\"\u001b[39;49m\u001b[38;5;124;43mmysheet1\u001b[39;49m\u001b[38;5;124;43m\"\u001b[39;49m\u001b[43m,\u001b[49m\u001b[43m \u001b[49m\u001b[43mdf\u001b[49m\u001b[43m)\u001b[49m\n",
      "Cell \u001b[1;32mIn[21], line 13\u001b[0m, in \u001b[0;36mcreate\u001b[1;34m(title, dataframe)\u001b[0m\n\u001b[0;32m      8\u001b[0m \u001b[38;5;28;01mdef\u001b[39;00m \u001b[38;5;21mcreate\u001b[39m(title, dataframe):\n\u001b[0;32m      9\u001b[0m \u001b[38;5;250m    \u001b[39m\u001b[38;5;124;03m\"\"\"\u001b[39;00m\n\u001b[0;32m     10\u001b[0m \u001b[38;5;124;03m    Creates the Sheet the user has access to and inserts DataFrame data.\u001b[39;00m\n\u001b[0;32m     11\u001b[0m \u001b[38;5;124;03m    Load pre-authorized user credentials from the environment.\u001b[39;00m\n\u001b[0;32m     12\u001b[0m \u001b[38;5;124;03m    \"\"\"\u001b[39;00m\n\u001b[1;32m---> 13\u001b[0m     creds, _ \u001b[38;5;241m=\u001b[39m \u001b[43mgoogle\u001b[49m\u001b[38;5;241;43m.\u001b[39;49m\u001b[43mauth\u001b[49m\u001b[38;5;241;43m.\u001b[39;49m\u001b[43mdefault\u001b[49m\u001b[43m(\u001b[49m\u001b[43m)\u001b[49m\n\u001b[0;32m     14\u001b[0m     \u001b[38;5;28;01mtry\u001b[39;00m:\n\u001b[0;32m     15\u001b[0m         service \u001b[38;5;241m=\u001b[39m build(\u001b[38;5;124m\"\u001b[39m\u001b[38;5;124msheets\u001b[39m\u001b[38;5;124m\"\u001b[39m, \u001b[38;5;124m\"\u001b[39m\u001b[38;5;124mv4\u001b[39m\u001b[38;5;124m\"\u001b[39m, credentials\u001b[38;5;241m=\u001b[39mcreds)\n",
      "File \u001b[1;32mc:\\Users\\cegli\\anaconda3\\envs\\pedroceglia\\Lib\\site-packages\\google\\auth\\_default.py:691\u001b[0m, in \u001b[0;36mdefault\u001b[1;34m(scopes, request, quota_project_id, default_scopes)\u001b[0m\n\u001b[0;32m    683\u001b[0m             _LOGGER\u001b[38;5;241m.\u001b[39mwarning(\n\u001b[0;32m    684\u001b[0m                 \u001b[38;5;124m\"\u001b[39m\u001b[38;5;124mNo project ID could be determined. Consider running \u001b[39m\u001b[38;5;124m\"\u001b[39m\n\u001b[0;32m    685\u001b[0m                 \u001b[38;5;124m\"\u001b[39m\u001b[38;5;124m`gcloud config set project` or setting the \u001b[39m\u001b[38;5;132;01m%s\u001b[39;00m\u001b[38;5;124m \u001b[39m\u001b[38;5;124m\"\u001b[39m\n\u001b[0;32m    686\u001b[0m                 \u001b[38;5;124m\"\u001b[39m\u001b[38;5;124menvironment variable\u001b[39m\u001b[38;5;124m\"\u001b[39m,\n\u001b[0;32m    687\u001b[0m                 environment_vars\u001b[38;5;241m.\u001b[39mPROJECT,\n\u001b[0;32m    688\u001b[0m             )\n\u001b[0;32m    689\u001b[0m         \u001b[38;5;28;01mreturn\u001b[39;00m credentials, effective_project_id\n\u001b[1;32m--> 691\u001b[0m \u001b[38;5;28;01mraise\u001b[39;00m exceptions\u001b[38;5;241m.\u001b[39mDefaultCredentialsError(_CLOUD_SDK_MISSING_CREDENTIALS)\n",
      "\u001b[1;31mDefaultCredentialsError\u001b[0m: Your default credentials were not found. To set up Application Default Credentials, see https://cloud.google.com/docs/authentication/external/set-up-adc for more information."
     ]
    }
   ],
   "source": [
    "import google.auth\n",
    "from googleapiclient.discovery import build\n",
    "from googleapiclient.errors import HttpError\n",
    "import pandas as pd\n",
    "from gspread_dataframe import set_with_dataframe\n",
    "import gspread\n",
    "\n",
    "\n",
    "def create(title, dataframe):\n",
    "    \"\"\"\n",
    "    Creates the Sheet the user has access to and inserts DataFrame data.\n",
    "    Load pre-authorized user credentials from the environment.\n",
    "    \"\"\"\n",
    "    creds, _ = google.auth.default()\n",
    "    try:\n",
    "\n",
    "    except HttpError as error:\n",
    "        print(f\"An error occurred: {error}\")\n",
    "        return error\n",
    "\n",
    "\n",
    "if __name__ == \"__main__\":\n",
    "    # Pass: title and DataFrame\n",
    "    create(\"Acari\", acari)\n"
   ]
  }
 ],
 "metadata": {
  "kernelspec": {
   "display_name": "base",
   "language": "python",
   "name": "python3"
  },
  "language_info": {
   "codemirror_mode": {
    "name": "ipython",
    "version": 3
   },
   "file_extension": ".py",
   "mimetype": "text/x-python",
   "name": "python",
   "nbconvert_exporter": "python",
   "pygments_lexer": "ipython3",
   "version": "3.11.7"
  }
 },
 "nbformat": 4,
 "nbformat_minor": 2
}
