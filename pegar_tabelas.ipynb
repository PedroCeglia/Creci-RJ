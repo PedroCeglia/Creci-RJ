{
 "cells": [
  {
   "cell_type": "markdown",
   "metadata": {},
   "source": [
    "# Corretoras e Imobiliarias\n",
    "\n",
    "Vamos pegar as tabelas de todos os corretores e imobiliarias do rio de janeiro"
   ]
  },
  {
   "cell_type": "markdown",
   "metadata": {},
   "source": [
    "## Recuperando tabela de consultores/imobiliaris"
   ]
  },
  {
   "cell_type": "markdown",
   "metadata": {},
   "source": [
    "### Importando Dependências"
   ]
  },
  {
   "cell_type": "code",
   "execution_count": 4,
   "metadata": {},
   "outputs": [],
   "source": [
    "import time\n",
    "import pandas as pd\n",
    "import pyautogui\n",
    "import pyperclip\n",
    "from selenium import webdriver\n",
    "from selenium.webdriver.common.action_chains import ActionChains\n",
    "from selenium.webdriver.common.keys import Keys\n",
    "from io import StringIO"
   ]
  },
  {
   "cell_type": "markdown",
   "metadata": {},
   "source": [
    "### Lista de Bairros"
   ]
  },
  {
   "cell_type": "code",
   "execution_count": 8,
   "metadata": {},
   "outputs": [],
   "source": [
    "lista_bairros_zona_norte = [\n",
    "    \"Acari\", \"Anchieta\", \"Barros Filho\", \"Bento Ribeiro\", \"Brás de Pina\", \"Campinho\", \"Cavalcanti\", \"Cascadura\", \"Coelho Neto\", \"Colégio\",\n",
    "    \"Complexo do Alemão\", \"Cordovil\", \"Costa Barros\", \"Engenheiro Leal\", \"Engenho da Rainha\", \"Guadalupe\", \"Honório Gurgel\", \"Inhaúma\", \"Irajá\",\n",
    "    \"Jardim América\", \"Madureira\", \"Marechal Hermes\", \"Oswaldo Cruz\", \"Parada de Lucas\", \"Parque Anchieta\", \"Parque Colúmbia\", \"Pavuna\", \"Penha\",\n",
    "    \"Penha Circular\", \"Quintinho Bocaiuva\", \"Ricardo de Albuquerque\", \"Rocha Miranda\", \"Tómas Coelho\", \"Turiaçu\", \"Vaz Lobo\", \"Vicente de Carvalho\",\n",
    "    \"Vigário Geral\", \"Vila da Penha\", \"Vila Kosmos\", \"Vista Alegre\" \n",
    "]\n",
    "lista_bairros_ilha_gov_leopoldina = [\n",
    "    \"Bonsucesso\", \"Bancários\", \"Cacuia\", \"Cidade Universitária\", \"Cocotá\", \"Freguesia\", \"Galeão\", \"Jardim Carioca\", \"Jardim Guanabara\", \"Maré\",\n",
    "    \"Moneró\", \"Olaria\", \"Pitangueiras\", \"Portuguesa\", \"Praia da Bandeira\", \"Ramos\", \"Ribeira\", \"Tauá\", \"Zumbi\" \n",
    "]\n",
    "lista_bairros_tijuca = [\n",
    "    \"Alto da Boa Vista\", \"Andaraí\", \"Grajaú\", \"Maracanã\", \"Praça da Bandeira\", \"Tijuca\", \"Vila Isabel\", \n",
    "]\n",
    "lista_bairros_meier = [\n",
    "    \"Abolição\", \"Agua Santa\", \"Cachambi\", \"Del Castilho\", \"Encantado\", \"Engenho de Dentro\", \"Engenho Novo\", \"Higienópolis\", \"Jacaré\", \"Jacarezinho\",\n",
    "    \"Lins de Vasconcelos\", \"Manguinhos\", \"Maria da Graça\", \"Méier\", \"Piedade\", \"Pilares\", \"Riachuelo\", \"Rocha\", \"Sampaio\", \"São Francisco Xavier\",\n",
    "    \"Todos os Santos\",  \n",
    "]\n",
    "\n",
    "lista_bairros = lista_bairros_zona_norte + lista_bairros_ilha_gov_leopoldina + lista_bairros_tijuca + lista_bairros_meier\n",
    "dict_bairros = {}"
   ]
  },
  {
   "cell_type": "markdown",
   "metadata": {},
   "source": [
    "### Baixar tabela por bairro"
   ]
  },
  {
   "cell_type": "code",
   "execution_count": 9,
   "metadata": {},
   "outputs": [],
   "source": [
    "def baixar_tabela_por_bairro(bairro):\n",
    "    url = 'https://www.crecirj.conselho.net.br/form_pesquisa_cadastro_geral_site.php'\n",
    "    driver = webdriver.Edge()\n",
    "\n",
    "    # Maximize a janela do navegador\n",
    "    driver.maximize_window()\n",
    "    \n",
    "    #Abrir pagina\n",
    "    driver.get(url)\n",
    "    \n",
    "    # Localiza os campos do formulário e preenche-os\n",
    "    campo_bairro = driver.find_element(\"id\", \"input-27\")\n",
    "    campo_bairro.send_keys(bairro)\n",
    "\n",
    "    # Envie o formulário\n",
    "    campo_bairro.send_keys(Keys.RETURN)\n",
    "\n",
    "    # Aguarde um tempo para a página carregar completamente\n",
    "    time.sleep(6)\n",
    "\n",
    "    # Pular para o final da pagina\n",
    "    for _ in range(25):  \n",
    "        pyautogui.press('down')  # Simula pressionar a tecla de seta para baixo\n",
    "        time.sleep(0.2) \n",
    "\n",
    "    # Mova o cursor do mouse para o ponto médio do elemento usando PyAutoGUI\n",
    "    pyautogui.moveTo(171, 979)\n",
    "\n",
    "    # Simule um clique do mouse usando PyAutoGUI\n",
    "    pyautogui.click()\n",
    "\n",
    "    time.sleep(1)\n",
    "\n",
    "    pyautogui.click()\n",
    "\n",
    "    time.sleep(6)\n",
    "\n",
    "    try:\n",
    "        # Encontra a tabela na página\n",
    "        table = driver.find_elements('css selector', 'table')\n",
    "        table_html = table[0].get_attribute('outerHTML')\n",
    "    except IndexError:\n",
    "        print(f\"Não existe nenhuma corretora/imobiliaria em {bairro}!\")\n",
    "        print(f\"Verifique se o nome do bairro esta certo! {bairro}\\n\")\n",
    "        driver.quit()\n",
    "        return pd.DataFrame()\n",
    "    else:\n",
    "        df = pd.read_html(StringIO(table_html))[0]  # Este método retorna uma lista de DataFrames, portanto, pegamos o primeiro\n",
    "        driver.quit()\n",
    "        print(bairro, len(df),end='; ')\n",
    "        return df"
   ]
  },
  {
   "cell_type": "markdown",
   "metadata": {},
   "source": [
    "### Baixando as tabelas de todos os bairros"
   ]
  },
  {
   "cell_type": "code",
   "execution_count": null,
   "metadata": {},
   "outputs": [],
   "source": [
    "for bairro in lista_bairros:\n",
    "    tabela_bairro = baixar_tabela_por_bairro(bairro)\n",
    "    dict_bairros.update({bairro:tabela_bairro})"
   ]
  },
  {
   "cell_type": "markdown",
   "metadata": {},
   "source": [
    "### Baixando apenas um item"
   ]
  },
  {
   "cell_type": "code",
   "execution_count": null,
   "metadata": {},
   "outputs": [],
   "source": [
    "tabela_bairro_tijuca = baixar_tabela_por_bairro(\"Tijuca\")\n",
    "\n",
    "dict_bairros.update({\"Tijuca\":tabela_bairro_tijuca})"
   ]
  },
  {
   "cell_type": "markdown",
   "metadata": {},
   "source": [
    "### Criando uma cópia para preservar o dicionário original"
   ]
  },
  {
   "cell_type": "code",
   "execution_count": null,
   "metadata": {},
   "outputs": [],
   "source": [
    "dict_bairros_edit = dict_bairros.copy()"
   ]
  },
  {
   "cell_type": "markdown",
   "metadata": {},
   "source": [
    "### Exibindo quantos corretores/imobiliarias tem em cada bairro"
   ]
  },
  {
   "cell_type": "code",
   "execution_count": null,
   "metadata": {},
   "outputs": [],
   "source": [
    "soma_len = 0\n",
    "for bairro, tb in dict_bairros_edit.items():\n",
    "    soma_len += len(tb)\n",
    "    print(bairro, len(tb))\n",
    "\n",
    "print(\"Todos:\", soma_len)"
   ]
  },
  {
   "cell_type": "markdown",
   "metadata": {},
   "source": [
    "### Exibindo quantas corretoras/imobiliarias estão ativas e inativas"
   ]
  },
  {
   "cell_type": "code",
   "execution_count": null,
   "metadata": {},
   "outputs": [],
   "source": [
    "ativos_qnt = 0\n",
    "inativos_qnt = 0\n",
    "\n",
    "def verifica_aitvos_inativos(dataframe):\n",
    "    ativos = 0\n",
    "    inativos = 0\n",
    "    for index, linha in dataframe.iterrows():\n",
    "        if \" PF \" in  linha[\"Identificação\"]:\n",
    "            if linha[\"Situação\"] == \"ATIVO\":\n",
    "                ativos += 1 \n",
    "            else: \n",
    "                inativos += 1\n",
    "    return (ativos, inativos)\n",
    "\n",
    "\n",
    "for bairro, tb in dict_bairros_edit.items():\n",
    "    novo_ativos_qnt, novo_inativos_qnt = verifica_aitvos_inativos(tb)\n",
    "    ativos_qnt += novo_ativos_qnt\n",
    "    inativos_qnt += novo_inativos_qnt\n",
    "\n",
    "print(\"Ativos\", ativos_qnt)\n",
    "print(\"Inativos\", inativos_qnt)\n",
    "print(\"Total\", ativos_qnt + inativos_qnt)"
   ]
  },
  {
   "cell_type": "markdown",
   "metadata": {},
   "source": [
    "### Filtrando Corretoras/Imobiliarias  (Situação = \"ATIVO\" e Certidão de Regularidade = \"REGULAR\")"
   ]
  },
  {
   "cell_type": "code",
   "execution_count": null,
   "metadata": {},
   "outputs": [],
   "source": [
    "def bairros_ativos_disponiveis(bairros):\n",
    "    novo_dict = {}\n",
    "    for bairro_nome, bairro_tabela in bairros.items():\n",
    "        print(bairro_nome)\n",
    "        if not bairro_tabela.empty:\n",
    "            nova_tabela = bairro_tabela.loc[bairro_tabela[\"Situação\"] == \"ATIVO\"]\n",
    "            nova_tabela = nova_tabela.loc[bairro_tabela[\"Certidão de Regularidade\"] == \"REGULAR\"]\n",
    "            novo_dict.update({bairro_nome:nova_tabela})\n",
    "        else:\n",
    "            print(\"Vazio\",bairro_nome)\n",
    "    return novo_dict.copy()\n",
    "\n",
    "print(len(dict_bairros_edit))\n",
    "dict_imobiliaria_ativa_disponivel = bairros_ativos_disponiveis(dict_bairros_edit)\n",
    "print(len(dict_imobiliaria_ativa_disponivel))"
   ]
  },
  {
   "cell_type": "markdown",
   "metadata": {},
   "source": [
    "### Descobrir CNPJ outra etapa"
   ]
  },
  {
   "cell_type": "code",
   "execution_count": null,
   "metadata": {},
   "outputs": [],
   "source": [
    "\n",
    "def descobrir_cnpj(razao_social):\n",
    "    url = \"https://cnpj.linkana.com\"\n",
    "    driver = webdriver.Edge()\n",
    "    driver.get(url)\n",
    "    \n",
    "    time.sleep(1)\n",
    "\n",
    "    campo_razao_social = driver.find_element(\"id\", \"q\")\n",
    "    campo_razao_social.send_keys(razao_social)\n",
    "\n",
    "    # Envie o formulário\n",
    "    campo_razao_social.send_keys(Keys.RETURN)\n",
    "    time.sleep(5)\n",
    "\n",
    "    \n",
    "tabela_acari = dict_imobiliaria_ativa_disponivel['Acari']\n",
    "\n",
    "display(tabela_acari)\n",
    "\n",
    "for linha in tabela_acari.itertuples():\n",
    "    \n",
    "    razao_social = linha.Identificação\n",
    "    razao_social = razao_social.replace(\" PF P\", \"\")\n",
    "    \n",
    "    print(razao_social)"
   ]
  },
  {
   "cell_type": "markdown",
   "metadata": {},
   "source": [
    "## Descobrir CNPJ"
   ]
  },
  {
   "cell_type": "markdown",
   "metadata": {},
   "source": [
    "### Sites que realizaremos as buscas"
   ]
  },
  {
   "cell_type": "code",
   "execution_count": 7,
   "metadata": {},
   "outputs": [],
   "source": [
    "URL_LINKANA = \"https://cnpj.linkana.com/\"\n",
    "URL_CNPJBIZ = \"https://cnpj.biz/empresas\"\n",
    "URL_ECONODATA = \"https://www.econodata.com.br/consulta-empresa\""
   ]
  },
  {
   "cell_type": "markdown",
   "metadata": {},
   "source": [
    "### Recuperando String de Print da Tela"
   ]
  },
  {
   "cell_type": "code",
   "execution_count": 34,
   "metadata": {},
   "outputs": [],
   "source": [
    "import easyocr\n",
    "from PIL import Image\n",
    "\n",
    "def recuperando_string_print(*coordenadas):\n",
    "    # Inicializa o EasyOCR para o idioma português\n",
    "    reader = easyocr.Reader(['pt'])\n",
    "\n",
    "    # Captura uma região da tela onde o texto está localizado (ajuste as coordenadas conforme necessário)\n",
    "    x1, y1, width, height = coordenadas\n",
    "    screenshot = pyautogui.screenshot(region=(x1, y1, width, height))\n",
    "\n",
    "    # Salva a captura de tela em um arquivo temporário\n",
    "    screenshot_path = \"screenshot_temp.png\"\n",
    "    screenshot.save(screenshot_path)\n",
    "\n",
    "    # Usa EasyOCR para realizar OCR na imagem\n",
    "    resultados = reader.readtext(screenshot_path)\n",
    "    \n",
    "    # Extrai o texto dos resultados\n",
    "    texto_copiado = \"\"\n",
    "    for resultado in resultados:\n",
    "        texto_copiado += resultado[1] + \" \"\n",
    "    print(\"Texto:\", texto_copiado)\n",
    "    return texto_copiado.strip()\n"
   ]
  },
  {
   "cell_type": "markdown",
   "metadata": {},
   "source": [
    "### Buscar no CNPJ.BIZ"
   ]
  },
  {
   "cell_type": "code",
   "execution_count": 37,
   "metadata": {},
   "outputs": [
    {
     "name": "stderr",
     "output_type": "stream",
     "text": [
      "Neither CUDA nor MPS are available - defaulting to CPU. Note: This module is much faster with a GPU.\n"
     ]
    },
    {
     "name": "stdout",
     "output_type": "stream",
     "text": [
      "Texto: AN \n"
     ]
    },
    {
     "name": "stderr",
     "output_type": "stream",
     "text": [
      "Neither CUDA nor MPS are available - defaulting to CPU. Note: This module is much faster with a GPU.\n"
     ]
    },
    {
     "name": "stdout",
     "output_type": "stream",
     "text": [
      "Texto: 24.701.445/0001-67 Rio de Jane \n",
      "24.701.445/0001-67 Rio de Jane\n"
     ]
    }
   ],
   "source": [
    "def buscar_cnpj_no_cnpjbiz(nome_empresa):\n",
    "    pyautogui.PAUSE = 1\n",
    "    pyautogui.press(\"win\")\n",
    "    pyautogui.write(\"edge\")\n",
    "    pyautogui.press(\"enter\")\n",
    "\n",
    "    time.sleep(2)\n",
    "\n",
    "    pyautogui.write(URL_CNPJBIZ)\n",
    "    pyautogui.press(\"enter\")\n",
    "\n",
    "    time.sleep(5)\n",
    "    pyperclip.copy(nome_empresa)\n",
    "\n",
    "    pyautogui.click(1062, 409)\n",
    "    pyautogui.hotkey(\"ctrl\", \"v\")\n",
    "    time.sleep(1)\n",
    "    pyautogui.press(\"enter\")\n",
    "    time.sleep(1)\n",
    "\n",
    "    deu_ruim = recuperando_string_print(639, 235, 300, 400)\n",
    "    time.sleep(4)\n",
    "    if \"Opa! Alguma coisa saiu errado Desculpe;\" in deu_ruim:\n",
    "        print(\"Deu ruim\")\n",
    "        print(deu_ruim)\n",
    "        return False\n",
    "    else:\n",
    "        for i in range(5):\n",
    "            pyautogui.press(\"down\")\n",
    "\n",
    "        pyautogui.moveTo(445,430)\n",
    "        texto = recuperando_string_print(445, 430, 300, 200)\n",
    "        print(texto)\n",
    "        return texto\n",
    "    time.sleep(6)\n",
    "\n",
    "    \n",
    "cnpj_empresa = buscar_cnpj_no_cnpjbiz(\"2M INTERMEDIAÇÕES LTDA\")"
   ]
  },
  {
   "cell_type": "markdown",
   "metadata": {},
   "source": [
    "## Conectar Google Sheets "
   ]
  },
  {
   "cell_type": "markdown",
   "metadata": {},
   "source": [
    "### Importando dependências"
   ]
  },
  {
   "cell_type": "code",
   "execution_count": null,
   "metadata": {},
   "outputs": [],
   "source": [
    "import os.path\n",
    "\n",
    "from google.auth.transport.requests import Request\n",
    "from google.oauth2.credentials import Credentials\n",
    "from google_auth_oauthlib.flow import InstalledAppFlow\n",
    "from googleapiclient.discovery import build\n",
    "from googleapiclient.errors import HttpError\n",
    "from gspread_dataframe import set_with_dataframe\n",
    "import gspread"
   ]
  },
  {
   "cell_type": "markdown",
   "metadata": {},
   "source": [
    "### Criar Planilhas no GOOGLE SHEETS"
   ]
  },
  {
   "cell_type": "code",
   "execution_count": 10,
   "metadata": {},
   "outputs": [],
   "source": [
    "def criar_planilha_gs(nome, service):\n",
    "    # Create the spreadsheet\n",
    "    planilha = {\"properties\": {\"title\": nome}}\n",
    "    planilha = (\n",
    "        service.spreadsheets()\n",
    "        .create(body=planilha, fields=\"spreadsheetId\")\n",
    "        .execute()\n",
    "    )\n",
    "    spreadsheet_id = planilha.get(\"spreadsheetId\")\n",
    "    print(f\"Spreadsheet ID: {spreadsheet_id}\")\n",
    "    return spreadsheet_id"
   ]
  },
  {
   "cell_type": "markdown",
   "metadata": {},
   "source": [
    "### Ler Planilhas no GOOGLE SHEETS"
   ]
  },
  {
   "cell_type": "code",
   "execution_count": 11,
   "metadata": {},
   "outputs": [],
   "source": [
    "def ler_planilha(id_planilha, service, range=\"Página1!A:Z\"):\n",
    "    planilha = service.spreadsheets().values().get(spreadsheetId=id_planilha, range=range).execute()\n",
    "    print(planilha['values'])\n",
    "    return planilha"
   ]
  },
  {
   "cell_type": "markdown",
   "metadata": {},
   "source": [
    "### Editar planilhas no GOOGLE SHEETS"
   ]
  },
  {
   "cell_type": "code",
   "execution_count": 12,
   "metadata": {},
   "outputs": [],
   "source": [
    "def editar_planilha(id_planilha, service, novo_conteudo, range=\"Pagina1!A\"):\n",
    "    planilha = service.spreadsheets().values().update(\n",
    "        spreadsheetId=id_planilha,\n",
    "        range=range, valueInputOption=\"USER_ENTERED\",\n",
    "        body={'values':novo_conteudo}\n",
    "    ).execute()\n",
    "    print(\"Planilha Editada\")\n",
    "    return planilha"
   ]
  },
  {
   "cell_type": "markdown",
   "metadata": {},
   "source": [
    "### Transforma Dataframe em Lista"
   ]
  },
  {
   "cell_type": "code",
   "execution_count": 13,
   "metadata": {},
   "outputs": [],
   "source": [
    "def transforma_dataframe_em_lista(dataframe):\n",
    "    nova_lista = []\n",
    "    colunas = list(dataframe.columns)[:-1]\n",
    "    nova_lista.append(colunas)\n",
    "    \n",
    "    dataframe_fillna = dataframe.fillna(\"\")\n",
    "    for index, linha in dataframe_fillna.iterrows():\n",
    "        itens_lista = []\n",
    "        for item in linha:\n",
    "            print(item)\n",
    "            itens_lista.append(item)\n",
    "        nova_lista.append(itens_lista)\n",
    "    return nova_lista"
   ]
  },
  {
   "cell_type": "markdown",
   "metadata": {},
   "source": [
    "### Validar Token GOOGLE SHEETS"
   ]
  },
  {
   "cell_type": "code",
   "execution_count": 14,
   "metadata": {},
   "outputs": [],
   "source": [
    "SCOPES = [\"https://www.googleapis.com/auth/spreadsheets\"]\n",
    "\n",
    "def validar_token_google_sheets():\n",
    "  creds = None\n",
    "  # The file token.json stores the user's access and refresh tokens, and is\n",
    "  # created automatically when the authorization flow completes for the first\n",
    "  # time.\n",
    "  if os.path.exists(\"token.json\"):\n",
    "    creds = Credentials.from_authorized_user_file(\"token.json\", SCOPES)\n",
    "  # If there are no (valid) credentials available, let the user log in.\n",
    "  if not creds or not creds.valid:\n",
    "    if creds and creds.expired and creds.refresh_token:\n",
    "      creds.refresh(Request())\n",
    "    else:\n",
    "      flow = InstalledAppFlow.from_client_secrets_file(\n",
    "          \"client_secret.json\", SCOPES\n",
    "      )\n",
    "      creds = flow.run_local_server(port=0)\n",
    "    # Save the credentials for the next run\n",
    "    with open(\"token.json\", \"w\") as token:\n",
    "      token.write(creds.to_json())"
   ]
  },
  {
   "cell_type": "markdown",
   "metadata": {},
   "source": [
    "### Transformar Dataframe em planilha"
   ]
  },
  {
   "cell_type": "code",
   "execution_count": 15,
   "metadata": {},
   "outputs": [],
   "source": [
    "\n",
    "# If modifying these scopes, delete the file token.json.\n",
    "SCOPES = [\"https://www.googleapis.com/auth/spreadsheets\"]\n",
    "id_planilha = \"1AeDuHW7f4-7vBVCgQvMBYqx2ZCTxcO7D0qbzMZ2l8Ps\"\n",
    "\n",
    "\n",
    "def transformar_dataframe_planilha(title, dataframe):\n",
    "  creds = None\n",
    "  # The file token.json stores the user's access and refresh tokens, and is\n",
    "  # created automatically when the authorization flow completes for the first\n",
    "  # time.\n",
    "  if os.path.exists(\"token.json\"):\n",
    "    creds = Credentials.from_authorized_user_file(\"token.json\", SCOPES)\n",
    "  # If there are no (valid) credentials available, let the user log in.\n",
    "  if not creds or not creds.valid:\n",
    "    if creds and creds.expired and creds.refresh_token:\n",
    "      creds.refresh(Request())\n",
    "    else:\n",
    "      flow = InstalledAppFlow.from_client_secrets_file(\n",
    "          \"client_secret.json\", SCOPES\n",
    "      )\n",
    "      creds = flow.run_local_server(port=0)\n",
    "    # Save the credentials for the next run\n",
    "    with open(\"token.json\", \"w\") as token:\n",
    "      token.write(creds.to_json())\n",
    "  try:\n",
    "    service = build(\"sheets\", \"v4\", credentials=creds)\n",
    "    conteudo_para_adicionar = transforma_dataframe_em_lista(dataframe)\n",
    "    editar_planilha(id_planilha, service, conteudo_para_adicionar, range=f\"{title}!A:Z\")\n",
    "\n",
    "  except HttpError as err:\n",
    "    print(err)\n",
    "\n"
   ]
  },
  {
   "cell_type": "code",
   "execution_count": null,
   "metadata": {},
   "outputs": [],
   "source": [
    "acari = dict_bairros_edit[\"Acari\"]\n",
    "#print(list(tijuca.columns)[:-1])\n",
    "\n",
    "transformar_dataframe_planilha(\"Acari\", acari, id_planilha)\n"
   ]
  }
 ],
 "metadata": {
  "kernelspec": {
   "display_name": "base",
   "language": "python",
   "name": "python3"
  },
  "language_info": {
   "codemirror_mode": {
    "name": "ipython",
    "version": 3
   },
   "file_extension": ".py",
   "mimetype": "text/x-python",
   "name": "python",
   "nbconvert_exporter": "python",
   "pygments_lexer": "ipython3",
   "version": "3.11.8"
  }
 },
 "nbformat": 4,
 "nbformat_minor": 2
}
